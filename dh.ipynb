{
  "nbformat": 4,
  "nbformat_minor": 0,
  "metadata": {
    "colab": {
      "name": "Untitled2.ipynb",
      "provenance": [],
      "authorship_tag": "ABX9TyPreD70Y6OuT7+RhDrSsiAT",
      "include_colab_link": true
    },
    "kernelspec": {
      "name": "python3",
      "display_name": "Python 3"
    }
  },
  "cells": [
    {
      "cell_type": "markdown",
      "metadata": {
        "id": "view-in-github",
        "colab_type": "text"
      },
      "source": [
        "<a href=\"https://colab.research.google.com/github/groovu/dh-eucr/blob/master/dh.ipynb\" target=\"_parent\"><img src=\"https://colab.research.google.com/assets/colab-badge.svg\" alt=\"Open In Colab\"/></a>"
      ]
    },
    {
      "cell_type": "code",
      "metadata": {
        "id": "N8OWSQmYOnxX",
        "colab_type": "code",
        "colab": {}
      },
      "source": [
        "import requests\n",
        "\n",
        "url = \"https://api.pushshift.io/reddit/search/submission\"\n",
        "\n",
        "def crawl_page(subreddit: str, last_page = None):\n",
        "  \"\"\"Crawl a page of results from a given subreddit.\n",
        "\n",
        "  :param subreddit: The subreddit to crawl.\n",
        "  :param last_page: The last downloaded page.\n",
        "\n",
        "  :return: A page or results.\n",
        "  \"\"\"\n",
        "  params = {\"subreddit\": subreddit, \"size\": 500, \"sort\": \"desc\", \"sort_type\": \"created_utc\"}\n",
        "  if last_page is not None:\n",
        "    if len(last_page) > 0:\n",
        "      # resume from where we left at the last page\n",
        "      params[\"before\"] = last_page[-1][\"created_utc\"]\n",
        "    else:\n",
        "      # the last page was empty, we are past the last page\n",
        "      return []\n",
        "  results = requests.get(url, params)\n",
        "  if not results.ok:\n",
        "    # something wrong happened\n",
        "    raise Exception(\"Server returned status code {}\".format(results.status_code))\n",
        "  return results.json()[\"data\"]"
      ],
      "execution_count": null,
      "outputs": []
    },
    {
      "cell_type": "code",
      "metadata": {
        "id": "8_I3U7VqP2Lo",
        "colab_type": "code",
        "colab": {}
      },
      "source": [
        "sol = crawl_page('berkeley')"
      ],
      "execution_count": null,
      "outputs": []
    },
    {
      "cell_type": "code",
      "metadata": {
        "id": "7H1JsaiCQh-H",
        "colab_type": "code",
        "colab": {
          "base_uri": "https://localhost:8080/",
          "height": 34
        },
        "outputId": "e6e3cf32-c029-4f21-c1d3-c5812f338c60"
      },
      "source": [
        "print(len(sol))"
      ],
      "execution_count": null,
      "outputs": [
        {
          "output_type": "stream",
          "text": [
            "500\n"
          ],
          "name": "stdout"
        }
      ]
    },
    {
      "cell_type": "code",
      "metadata": {
        "id": "jwt2DsFhQzCC",
        "colab_type": "code",
        "colab": {}
      },
      "source": [
        "import time\n",
        "\n",
        "def crawl_subreddit(subreddit, max_submissions = 55084):\n",
        "  \"\"\"\n",
        "  Crawl submissions from a subreddit.\n",
        "\n",
        "  :param subreddit: The subreddit to crawl.\n",
        "  :param max_submissions: The maximum number of submissions to download.\n",
        "\n",
        "  :return: A list of submissions.\n",
        "  \"\"\"\n",
        "  submissions = []\n",
        "  last_page = None\n",
        "  while last_page != [] and len(submissions) < max_submissions:\n",
        "    last_page = crawl_page(subreddit, last_page)\n",
        "    submissions += last_page\n",
        "    time.sleep(3)\n",
        "  return submissions[:max_submissions]"
      ],
      "execution_count": null,
      "outputs": []
    },
    {
      "cell_type": "code",
      "metadata": {
        "id": "_oenNPgmQ0NJ",
        "colab_type": "code",
        "colab": {}
      },
      "source": [
        "lastest_submissions = crawl_subreddit(\"berkeley\")\n"
      ],
      "execution_count": null,
      "outputs": []
    },
    {
      "cell_type": "code",
      "metadata": {
        "id": "gbS_xuzhQ3pw",
        "colab_type": "code",
        "colab": {
          "base_uri": "https://localhost:8080/",
          "height": 139
        },
        "outputId": "ec124676-e21c-44a0-d724-ffaec43b00c9"
      },
      "source": [
        "print(len(lastest_submissions))\n",
        "print(type(lastest_submissions))\n",
        "\n",
        "print(type(lastest_submissions[1]))\n",
        "print(lastest_submissions[1])\n",
        "print(lastest_submissions[1].get('all_awardings'))\n",
        "print(lastest_submissions[1].values())"
      ],
      "execution_count": null,
      "outputs": [
        {
          "output_type": "stream",
          "text": [
            "55036\n",
            "<class 'list'>\n",
            "<class 'dict'>\n",
            "{'all_awardings': [], 'allow_live_comments': False, 'author': 'bayleafcandle', 'author_flair_css_class': None, 'author_flair_richtext': [], 'author_flair_text': None, 'author_flair_type': 'text', 'author_fullname': 't2_h0etji', 'author_patreon_flair': False, 'author_premium': False, 'awarders': [], 'can_mod_post': False, 'contest_mode': False, 'created_utc': 1592260263, 'domain': 'self.berkeley', 'full_link': 'https://www.reddit.com/r/berkeley/comments/h9qftg/has_anyone_taken_a_class_with_malone_or_ortiz/', 'gildings': {}, 'id': 'h9qftg', 'is_crosspostable': True, 'is_meta': False, 'is_original_content': False, 'is_reddit_media_domain': False, 'is_robot_indexable': True, 'is_self': True, 'is_video': False, 'link_flair_background_color': '', 'link_flair_richtext': [], 'link_flair_text_color': 'dark', 'link_flair_type': 'text', 'locked': False, 'media_only': False, 'no_follow': True, 'num_comments': 0, 'num_crossposts': 0, 'over_18': False, 'parent_whitelist_status': 'all_ads', 'permalink': '/r/berkeley/comments/h9qftg/has_anyone_taken_a_class_with_malone_or_ortiz/', 'pinned': False, 'pwls': 6, 'retrieved_on': 1592260267, 'score': 1, 'selftext': 'I posted this yesterday but deleted it shortly after because I was still deciding between classes. These two professors’ classes seemed interesting but there’s nothing about them on ratemyprofessor so I was curious if anyone had any insight.', 'send_replies': True, 'spoiler': False, 'stickied': False, 'subreddit': 'berkeley', 'subreddit_id': 't5_2qh9w', 'subreddit_subscribers': 39461, 'subreddit_type': 'public', 'thumbnail': 'self', 'title': 'Has anyone taken a class with Malone or Ortiz?', 'total_awards_received': 0, 'treatment_tags': [], 'upvote_ratio': 1.0, 'url': 'https://www.reddit.com/r/berkeley/comments/h9qftg/has_anyone_taken_a_class_with_malone_or_ortiz/', 'whitelist_status': 'all_ads', 'wls': 6}\n",
            "[]\n",
            "dict_values([[], False, 'bayleafcandle', None, [], None, 'text', 't2_h0etji', False, False, [], False, False, 1592260263, 'self.berkeley', 'https://www.reddit.com/r/berkeley/comments/h9qftg/has_anyone_taken_a_class_with_malone_or_ortiz/', {}, 'h9qftg', True, False, False, False, True, True, False, '', [], 'dark', 'text', False, False, True, 0, 0, False, 'all_ads', '/r/berkeley/comments/h9qftg/has_anyone_taken_a_class_with_malone_or_ortiz/', False, 6, 1592260267, 1, 'I posted this yesterday but deleted it shortly after because I was still deciding between classes. These two professors’ classes seemed interesting but there’s nothing about them on ratemyprofessor so I was curious if anyone had any insight.', True, False, False, 'berkeley', 't5_2qh9w', 39461, 'public', 'self', 'Has anyone taken a class with Malone or Ortiz?', 0, [], 1.0, 'https://www.reddit.com/r/berkeley/comments/h9qftg/has_anyone_taken_a_class_with_malone_or_ortiz/', 'all_ads', 6])\n"
          ],
          "name": "stdout"
        }
      ]
    },
    {
      "cell_type": "code",
      "metadata": {
        "id": "jHE6YULnYxKt",
        "colab_type": "code",
        "colab": {}
      },
      "source": [
        "def cleanup(list):\n",
        "    cleaned = []\n",
        "    i = 0;\n",
        "    for d in list:\n",
        "      cleaned += [[d.get('created'), (d.get('title'), d.get('self_text')]]\n",
        "      print(d)\n",
        "    \n",
        "    return cleaned\n",
        "\n",
        "       \n",
        "    "
      ],
      "execution_count": null,
      "outputs": []
    },
    {
      "cell_type": "code",
      "metadata": {
        "id": "Tj3SZWBZb8qd",
        "colab_type": "code",
        "colab": {}
      },
      "source": [
        "test = lastest_submissions[:10]"
      ],
      "execution_count": null,
      "outputs": []
    },
    {
      "cell_type": "code",
      "metadata": {
        "id": "JWbQe0GvcKRb",
        "colab_type": "code",
        "colab": {
          "base_uri": "https://localhost:8080/",
          "height": 258
        },
        "outputId": "13aeeafc-a6c8-40dd-d685-76630b742ffe"
      },
      "source": [
        "print(test)\n",
        "print(len(test))\n",
        "clean = cleanup(test)\n",
        "print(clean[1])"
      ],
      "execution_count": null,
      "outputs": [
        {
          "output_type": "stream",
          "text": [
            "[{'all_awardings': [], 'allow_live_comments': False, 'author': 'asilvermourning', 'author_flair_css_class': None, 'author_flair_richtext': [], 'author_flair_text': None, 'author_flair_type': 'text', 'author_fullname': 't2_630ru2s', 'author_patreon_flair': False, 'author_premium': False, 'awarders': [], 'can_mod_post': False, 'contest_mode': False, 'created_utc': 1592262616, 'domain': 'self.berkeley', 'full_link': 'https://www.reddit.com/r/berkeley/comments/h9r6bu/sigma_phi_thorsen_house/', 'gildings': {}, 'id': 'h9r6bu', 'is_crosspostable': True, 'is_meta': False, 'is_original_content': False, 'is_reddit_media_domain': False, 'is_robot_indexable': True, 'is_self': True, 'is_video': False, 'link_flair_background_color': '', 'link_flair_richtext': [], 'link_flair_text_color': 'dark', 'link_flair_type': 'text', 'locked': False, 'media_only': False, 'no_follow': True, 'num_comments': 0, 'num_crossposts': 0, 'over_18': False, 'parent_whitelist_status': 'all_ads', 'permalink': '/r/berkeley/comments/h9r6bu/sigma_phi_thorsen_house/', 'pinned': False, 'pwls': 6, 'retrieved_on': 1592262620, 'score': 1, 'selftext': 'Random question I had after reading about some Berkeley landmarks... is sigma phi still active? What do they do (are they a regular frat?)?', 'send_replies': True, 'spoiler': False, 'stickied': False, 'subreddit': 'berkeley', 'subreddit_id': 't5_2qh9w', 'subreddit_subscribers': 39463, 'subreddit_type': 'public', 'thumbnail': 'self', 'title': 'Sigma Phi - Thorsen House', 'total_awards_received': 0, 'treatment_tags': [], 'upvote_ratio': 1.0, 'url': 'https://www.reddit.com/r/berkeley/comments/h9r6bu/sigma_phi_thorsen_house/', 'whitelist_status': 'all_ads', 'wls': 6}, {'all_awardings': [], 'allow_live_comments': False, 'author': 'bayleafcandle', 'author_flair_css_class': None, 'author_flair_richtext': [], 'author_flair_text': None, 'author_flair_type': 'text', 'author_fullname': 't2_h0etji', 'author_patreon_flair': False, 'author_premium': False, 'awarders': [], 'can_mod_post': False, 'contest_mode': False, 'created_utc': 1592260263, 'domain': 'self.berkeley', 'full_link': 'https://www.reddit.com/r/berkeley/comments/h9qftg/has_anyone_taken_a_class_with_malone_or_ortiz/', 'gildings': {}, 'id': 'h9qftg', 'is_crosspostable': True, 'is_meta': False, 'is_original_content': False, 'is_reddit_media_domain': False, 'is_robot_indexable': True, 'is_self': True, 'is_video': False, 'link_flair_background_color': '', 'link_flair_richtext': [], 'link_flair_text_color': 'dark', 'link_flair_type': 'text', 'locked': False, 'media_only': False, 'no_follow': True, 'num_comments': 0, 'num_crossposts': 0, 'over_18': False, 'parent_whitelist_status': 'all_ads', 'permalink': '/r/berkeley/comments/h9qftg/has_anyone_taken_a_class_with_malone_or_ortiz/', 'pinned': False, 'pwls': 6, 'retrieved_on': 1592260267, 'score': 1, 'selftext': 'I posted this yesterday but deleted it shortly after because I was still deciding between classes. These two professors’ classes seemed interesting but there’s nothing about them on ratemyprofessor so I was curious if anyone had any insight.', 'send_replies': True, 'spoiler': False, 'stickied': False, 'subreddit': 'berkeley', 'subreddit_id': 't5_2qh9w', 'subreddit_subscribers': 39461, 'subreddit_type': 'public', 'thumbnail': 'self', 'title': 'Has anyone taken a class with Malone or Ortiz?', 'total_awards_received': 0, 'treatment_tags': [], 'upvote_ratio': 1.0, 'url': 'https://www.reddit.com/r/berkeley/comments/h9qftg/has_anyone_taken_a_class_with_malone_or_ortiz/', 'whitelist_status': 'all_ads', 'wls': 6}, {'all_awardings': [], 'allow_live_comments': False, 'author': 'Ahtheuncertainty', 'author_flair_css_class': None, 'author_flair_richtext': [], 'author_flair_text': None, 'author_flair_type': 'text', 'author_fullname': 't2_4uaoxc3w', 'author_patreon_flair': False, 'author_premium': False, 'awarders': [], 'can_mod_post': False, 'contest_mode': False, 'created_utc': 1592259623, 'domain': 'i.redd.it', 'full_link': 'https://www.reddit.com/r/berkeley/comments/h9q8s0/_/', 'gildings': {}, 'id': 'h9q8s0', 'is_crosspostable': True, 'is_meta': False, 'is_original_content': False, 'is_reddit_media_domain': True, 'is_robot_indexable': True, 'is_self': False, 'is_video': False, 'link_flair_background_color': '', 'link_flair_richtext': [], 'link_flair_text_color': 'dark', 'link_flair_type': 'text', 'locked': False, 'media_only': False, 'no_follow': True, 'num_comments': 0, 'num_crossposts': 0, 'over_18': False, 'parent_whitelist_status': 'all_ads', 'permalink': '/r/berkeley/comments/h9q8s0/_/', 'pinned': False, 'post_hint': 'image', 'preview': {'enabled': True, 'images': [{'id': 'GrVbygV_EWcS5ne57oH0K-BDfFzPCyoxullLUa3g054', 'resolutions': [{'height': 216, 'url': 'https://preview.redd.it/7u0v9yytf5551.jpg?width=108&amp;crop=smart&amp;auto=webp&amp;s=152118e068d792f6c19f5065d2c621e7c120b864', 'width': 108}, {'height': 432, 'url': 'https://preview.redd.it/7u0v9yytf5551.jpg?width=216&amp;crop=smart&amp;auto=webp&amp;s=46eba440593f86b5a14137d62e1313d200ce9cc9', 'width': 216}, {'height': 640, 'url': 'https://preview.redd.it/7u0v9yytf5551.jpg?width=320&amp;crop=smart&amp;auto=webp&amp;s=a47ae86ea74a9050fc42c903ddabd11802abc6b1', 'width': 320}, {'height': 1280, 'url': 'https://preview.redd.it/7u0v9yytf5551.jpg?width=640&amp;crop=smart&amp;auto=webp&amp;s=28e433cf6fdb9d7461b2234da291c53454756381', 'width': 640}, {'height': 1920, 'url': 'https://preview.redd.it/7u0v9yytf5551.jpg?width=960&amp;crop=smart&amp;auto=webp&amp;s=ebf5c77e33f6512adf31a249906918b93ff2da26', 'width': 960}, {'height': 2160, 'url': 'https://preview.redd.it/7u0v9yytf5551.jpg?width=1080&amp;crop=smart&amp;auto=webp&amp;s=d18e7a131cd764f0c181b1f4b76242549506de4a', 'width': 1080}], 'source': {'height': 4422, 'url': 'https://preview.redd.it/7u0v9yytf5551.jpg?auto=webp&amp;s=050448c0aedf081e73cc960b1565ffb0784b6067', 'width': 1280}, 'variants': {}}]}, 'pwls': 6, 'retrieved_on': 1592259629, 'score': 1, 'selftext': '', 'send_replies': True, 'spoiler': False, 'stickied': False, 'subreddit': 'berkeley', 'subreddit_id': 't5_2qh9w', 'subreddit_subscribers': 39460, 'subreddit_type': 'public', 'thumbnail': 'https://b.thumbs.redditmedia.com/lRRQ4czCrYfD35I2L_jp9PGfRP-F7MKXv2DjBaYHeBg.jpg', 'thumbnail_height': 140, 'thumbnail_width': 140, 'title': '🤷\\u200d♂️', 'total_awards_received': 0, 'treatment_tags': [], 'upvote_ratio': 1.0, 'url': 'https://i.redd.it/7u0v9yytf5551.jpg', 'whitelist_status': 'all_ads', 'wls': 6}, {'all_awardings': [], 'allow_live_comments': False, 'author': 'nobuthefluffy', 'author_flair_css_class': None, 'author_flair_richtext': [], 'author_flair_text': None, 'author_flair_type': 'text', 'author_fullname': 't2_6b2zkyvf', 'author_patreon_flair': False, 'author_premium': False, 'awarders': [], 'can_mod_post': False, 'contest_mode': False, 'created_utc': 1592259157, 'domain': 'self.berkeley', 'full_link': 'https://www.reddit.com/r/berkeley/comments/h9q3pz/envecon_100_with_leo_k_simon/', 'gildings': {}, 'id': 'h9q3pz', 'is_crosspostable': True, 'is_meta': False, 'is_original_content': False, 'is_reddit_media_domain': False, 'is_robot_indexable': True, 'is_self': True, 'is_video': False, 'link_flair_background_color': '', 'link_flair_richtext': [], 'link_flair_text_color': 'dark', 'link_flair_type': 'text', 'locked': False, 'media_only': False, 'no_follow': True, 'num_comments': 0, 'num_crossposts': 0, 'over_18': False, 'parent_whitelist_status': 'all_ads', 'permalink': '/r/berkeley/comments/h9q3pz/envecon_100_with_leo_k_simon/', 'pinned': False, 'pwls': 6, 'retrieved_on': 1592259163, 'score': 1, 'selftext': 'Was trying to see how good this professor is but there seem nothing on rate my professor. Has anyone here have taken this/any class with him?', 'send_replies': True, 'spoiler': False, 'stickied': False, 'subreddit': 'berkeley', 'subreddit_id': 't5_2qh9w', 'subreddit_subscribers': 39458, 'subreddit_type': 'public', 'thumbnail': 'self', 'title': 'ENVECON 100 with Leo K Simon?', 'total_awards_received': 0, 'treatment_tags': [], 'upvote_ratio': 1.0, 'url': 'https://www.reddit.com/r/berkeley/comments/h9q3pz/envecon_100_with_leo_k_simon/', 'whitelist_status': 'all_ads', 'wls': 6}, {'all_awardings': [], 'allow_live_comments': False, 'author': 'LadyOfIthilien', 'author_flair_css_class': None, 'author_flair_richtext': [], 'author_flair_text': None, 'author_flair_type': 'text', 'author_fullname': 't2_9pcos', 'author_patreon_flair': False, 'author_premium': False, 'awarders': [], 'can_mod_post': False, 'contest_mode': False, 'created_utc': 1592257192, 'domain': 'imgur.com', 'full_link': 'https://www.reddit.com/r/berkeley/comments/h9piec/long_live_the_building_formerly_known_as_lsa/', 'gildings': {}, 'id': 'h9piec', 'is_crosspostable': True, 'is_meta': False, 'is_original_content': False, 'is_reddit_media_domain': False, 'is_robot_indexable': True, 'is_self': False, 'is_video': False, 'link_flair_background_color': '', 'link_flair_richtext': [], 'link_flair_text_color': 'dark', 'link_flair_type': 'text', 'locked': False, 'media': {'oembed': {'description': 'Post with 0 views.', 'height': 401, 'html': '&lt;iframe class=\"embedly-embed\" src=\"https://cdn.embedly.com/widgets/media.html?src=https%3A%2F%2Fimgur.com%2Fa%2FD9rT3KL%2Fembed%3Fpub%3Dtrue%26ref%3Dhttps%253A%252F%252Fembed.ly%26w%3D512&amp;display_name=Imgur&amp;url=https%3A%2F%2Fimgur.com%2Fa%2FD9rT3KL&amp;image=https%3A%2F%2Fi.imgur.com%2F1iFLhLE.jpg%3Ffb&amp;key=ed8fa8699ce04833838e66ce79ba05f1&amp;type=text%2Fhtml&amp;schema=imgur\" width=\"512\" height=\"401\" scrolling=\"no\" title=\"Imgur embed\" frameborder=\"0\" allow=\"autoplay; fullscreen\" allowfullscreen=\"true\"&gt;&lt;/iframe&gt;', 'provider_name': 'Imgur', 'provider_url': 'http://imgur.com', 'thumbnail_height': 315, 'thumbnail_url': 'https://i.embed.ly/1/image?url=https%3A%2F%2Fi.imgur.com%2F1iFLhLE.jpg%3Ffb&amp;key=ed8fa8699ce04833838e66ce79ba05f1', 'thumbnail_width': 600, 'title': 'Imgur', 'type': 'rich', 'url': 'https://imgur.com/a/D9rT3KL', 'version': '1.0', 'width': 512}, 'type': 'imgur.com'}, 'media_embed': {'content': '&lt;iframe class=\"embedly-embed\" src=\"https://cdn.embedly.com/widgets/media.html?src=https%3A%2F%2Fimgur.com%2Fa%2FD9rT3KL%2Fembed%3Fpub%3Dtrue%26ref%3Dhttps%253A%252F%252Fembed.ly%26w%3D512&amp;display_name=Imgur&amp;url=https%3A%2F%2Fimgur.com%2Fa%2FD9rT3KL&amp;image=https%3A%2F%2Fi.imgur.com%2F1iFLhLE.jpg%3Ffb&amp;key=ed8fa8699ce04833838e66ce79ba05f1&amp;type=text%2Fhtml&amp;schema=imgur\" width=\"512\" height=\"401\" scrolling=\"no\" title=\"Imgur embed\" frameborder=\"0\" allow=\"autoplay; fullscreen\" allowfullscreen=\"true\"&gt;&lt;/iframe&gt;', 'height': 401, 'scrolling': False, 'width': 512}, 'media_only': False, 'no_follow': True, 'num_comments': 2, 'num_crossposts': 0, 'over_18': False, 'parent_whitelist_status': 'all_ads', 'permalink': '/r/berkeley/comments/h9piec/long_live_the_building_formerly_known_as_lsa/', 'pinned': False, 'post_hint': 'link', 'preview': {'enabled': False, 'images': [{'id': '5E55uPXLFFHHUTHaGhK_YoukFEXfjW2nXkfn3W3Ii5g', 'resolutions': [{'height': 71, 'url': 'https://external-preview.redd.it/yyAXS8DYzqQRfZl6Czko_XBSUEqpWwKpI-GTVd0b-Oo.jpg?width=108&amp;crop=smart&amp;auto=webp&amp;s=6cc004c36fc617f5cc412a9288b574aad736c922', 'width': 108}, {'height': 143, 'url': 'https://external-preview.redd.it/yyAXS8DYzqQRfZl6Czko_XBSUEqpWwKpI-GTVd0b-Oo.jpg?width=216&amp;crop=smart&amp;auto=webp&amp;s=4de4245c8aa881db49187ccbbfa940b99bc1f41a', 'width': 216}, {'height': 213, 'url': 'https://external-preview.redd.it/yyAXS8DYzqQRfZl6Czko_XBSUEqpWwKpI-GTVd0b-Oo.jpg?width=320&amp;crop=smart&amp;auto=webp&amp;s=7a2daa332fd1a0ecd2adced5d1487b095e87d6cb', 'width': 320}], 'source': {'height': 341, 'url': 'https://external-preview.redd.it/yyAXS8DYzqQRfZl6Czko_XBSUEqpWwKpI-GTVd0b-Oo.jpg?auto=webp&amp;s=d9493e05f70299dbf3926af6a61900738131aed7', 'width': 512}, 'variants': {}}]}, 'pwls': 6, 'retrieved_on': 1592257222, 'score': 1, 'secure_media': {'oembed': {'description': 'Post with 0 views.', 'height': 401, 'html': '&lt;iframe class=\"embedly-embed\" src=\"https://cdn.embedly.com/widgets/media.html?src=https%3A%2F%2Fimgur.com%2Fa%2FD9rT3KL%2Fembed%3Fpub%3Dtrue%26ref%3Dhttps%253A%252F%252Fembed.ly%26w%3D512&amp;display_name=Imgur&amp;url=https%3A%2F%2Fimgur.com%2Fa%2FD9rT3KL&amp;image=https%3A%2F%2Fi.imgur.com%2F1iFLhLE.jpg%3Ffb&amp;key=ed8fa8699ce04833838e66ce79ba05f1&amp;type=text%2Fhtml&amp;schema=imgur\" width=\"512\" height=\"401\" scrolling=\"no\" title=\"Imgur embed\" frameborder=\"0\" allow=\"autoplay; fullscreen\" allowfullscreen=\"true\"&gt;&lt;/iframe&gt;', 'provider_name': 'Imgur', 'provider_url': 'http://imgur.com', 'thumbnail_height': 315, 'thumbnail_url': 'https://i.embed.ly/1/image?url=https%3A%2F%2Fi.imgur.com%2F1iFLhLE.jpg%3Ffb&amp;key=ed8fa8699ce04833838e66ce79ba05f1', 'thumbnail_width': 600, 'title': 'Imgur', 'type': 'rich', 'url': 'https://imgur.com/a/D9rT3KL', 'version': '1.0', 'width': 512}, 'type': 'imgur.com'}, 'secure_media_embed': {'content': '&lt;iframe class=\"embedly-embed\" src=\"https://cdn.embedly.com/widgets/media.html?src=https%3A%2F%2Fimgur.com%2Fa%2FD9rT3KL%2Fembed%3Fpub%3Dtrue%26ref%3Dhttps%253A%252F%252Fembed.ly%26w%3D512&amp;display_name=Imgur&amp;url=https%3A%2F%2Fimgur.com%2Fa%2FD9rT3KL&amp;image=https%3A%2F%2Fi.imgur.com%2F1iFLhLE.jpg%3Ffb&amp;key=ed8fa8699ce04833838e66ce79ba05f1&amp;type=text%2Fhtml&amp;schema=imgur\" width=\"512\" height=\"401\" scrolling=\"no\" title=\"Imgur embed\" frameborder=\"0\" allow=\"autoplay; fullscreen\" allowfullscreen=\"true\"&gt;&lt;/iframe&gt;', 'height': 401, 'media_domain_url': 'https://www.redditmedia.com/mediaembed/h9piec', 'scrolling': False, 'width': 512}, 'selftext': '', 'send_replies': True, 'spoiler': False, 'stickied': False, 'subreddit': 'berkeley', 'subreddit_id': 't5_2qh9w', 'subreddit_subscribers': 39456, 'subreddit_type': 'public', 'thumbnail': 'https://b.thumbs.redditmedia.com/uHOR6T_FmKFsSgcVMxZ4ix8eHEOOvWLUDsnBKY0Rb4Y.jpg', 'thumbnail_height': 93, 'thumbnail_width': 140, 'title': 'Long Live The Building Formerly Known as LSA', 'total_awards_received': 0, 'treatment_tags': [], 'upvote_ratio': 1.0, 'url': 'https://imgur.com/a/D9rT3KL', 'whitelist_status': 'all_ads', 'wls': 6}, {'all_awardings': [], 'allow_live_comments': False, 'author': 'Additional-Charge', 'author_flair_css_class': None, 'author_flair_richtext': [], 'author_flair_text': None, 'author_flair_type': 'text', 'author_fullname': 't2_5h4cf838', 'author_patreon_flair': False, 'author_premium': False, 'awarders': [], 'can_mod_post': False, 'contest_mode': False, 'created_utc': 1592257135, 'domain': 'self.berkeley', 'full_link': 'https://www.reddit.com/r/berkeley/comments/h9phty/61a_class_size_expansion_for_enrollment/', 'gildings': {}, 'id': 'h9phty', 'is_crosspostable': True, 'is_meta': False, 'is_original_content': False, 'is_reddit_media_domain': False, 'is_robot_indexable': True, 'is_self': True, 'is_video': False, 'link_flair_background_color': '', 'link_flair_richtext': [], 'link_flair_text_color': 'dark', 'link_flair_type': 'text', 'locked': False, 'media_only': False, 'no_follow': True, 'num_comments': 1, 'num_crossposts': 0, 'over_18': False, 'parent_whitelist_status': 'all_ads', 'permalink': '/r/berkeley/comments/h9phty/61a_class_size_expansion_for_enrollment/', 'pinned': False, 'pwls': 6, 'retrieved_on': 1592257175, 'score': 1, 'selftext': 'Someone told me that for 61A the class size will expand to whatever size is necessary (like there is no cap to the size of the class). I am a new freshman, and I plan to enroll in 16 units, meaning that I have to enroll in one class later bc of the unit cap. Will I be able to get 61A (and if so, at the time slot I want) if I enroll in that one later, in august?', 'send_replies': True, 'spoiler': False, 'stickied': False, 'subreddit': 'berkeley', 'subreddit_id': 't5_2qh9w', 'subreddit_subscribers': 39456, 'subreddit_type': 'public', 'thumbnail': 'self', 'title': '61A class size expansion for enrollment?', 'total_awards_received': 0, 'treatment_tags': [], 'upvote_ratio': 1.0, 'url': 'https://www.reddit.com/r/berkeley/comments/h9phty/61a_class_size_expansion_for_enrollment/', 'whitelist_status': 'all_ads', 'wls': 6}, {'all_awardings': [], 'allow_live_comments': False, 'author': 'beary-cute', 'author_flair_css_class': None, 'author_flair_richtext': [], 'author_flair_text': None, 'author_flair_type': 'text', 'author_fullname': 't2_6wxskb6r', 'author_patreon_flair': False, 'author_premium': False, 'awarders': [], 'can_mod_post': False, 'contest_mode': False, 'created_utc': 1592256376, 'domain': 'i.redd.it', 'full_link': 'https://www.reddit.com/r/berkeley/comments/h9p9px/as_seen_on_overheard_just_in_case_anyone_is/', 'gildings': {}, 'id': 'h9p9px', 'is_crosspostable': True, 'is_meta': False, 'is_original_content': False, 'is_reddit_media_domain': True, 'is_robot_indexable': True, 'is_self': False, 'is_video': False, 'link_flair_background_color': '', 'link_flair_richtext': [], 'link_flair_text_color': 'dark', 'link_flair_type': 'text', 'locked': False, 'media_only': False, 'no_follow': True, 'num_comments': 5, 'num_crossposts': 0, 'over_18': False, 'parent_whitelist_status': 'all_ads', 'permalink': '/r/berkeley/comments/h9p9px/as_seen_on_overheard_just_in_case_anyone_is/', 'pinned': False, 'post_hint': 'image', 'preview': {'enabled': True, 'images': [{'id': 'LZiCohr43wZwbRajpbnuc3O_5KMioW9CkvoO7NcLJZo', 'resolutions': [{'height': 216, 'url': 'https://preview.redd.it/oxp9hyg665551.jpg?width=108&amp;crop=smart&amp;auto=webp&amp;s=dc3a1fc0818680953e67ee69ba87a9acc9da6717', 'width': 108}, {'height': 432, 'url': 'https://preview.redd.it/oxp9hyg665551.jpg?width=216&amp;crop=smart&amp;auto=webp&amp;s=af0beb99096cb08eb297ab50928c8933b261efa6', 'width': 216}, {'height': 640, 'url': 'https://preview.redd.it/oxp9hyg665551.jpg?width=320&amp;crop=smart&amp;auto=webp&amp;s=b1b74cc3f6f81a2a6bdca8528b3d3de8b56760fc', 'width': 320}], 'source': {'height': 960, 'url': 'https://preview.redd.it/oxp9hyg665551.jpg?auto=webp&amp;s=b4d49040db6f81b22f596cfe1146937d9ded5c36', 'width': 444}, 'variants': {}}]}, 'pwls': 6, 'retrieved_on': 1592256528, 'score': 1, 'selftext': '', 'send_replies': True, 'spoiler': False, 'stickied': False, 'subreddit': 'berkeley', 'subreddit_id': 't5_2qh9w', 'subreddit_subscribers': 39456, 'subreddit_type': 'public', 'thumbnail': 'https://a.thumbs.redditmedia.com/EnMWBOKk1-eyqbalpOi6Wy3sY8_VxnFYs5VbffLyjc0.jpg', 'thumbnail_height': 140, 'thumbnail_width': 140, 'title': 'As Seen on Overheard: “Just in case anyone is doubting the legitimacy of the other email that was recently posted here 😳🤝”', 'total_awards_received': 0, 'treatment_tags': [], 'upvote_ratio': 1.0, 'url': 'https://i.redd.it/oxp9hyg665551.jpg', 'whitelist_status': 'all_ads', 'wls': 6}, {'all_awardings': [], 'allow_live_comments': False, 'author': 'DaddyOski', 'author_flair_css_class': None, 'author_flair_richtext': [], 'author_flair_template_id': '59c45072-2446-11e5-aad7-0e7f0fa558f9', 'author_flair_text': None, 'author_flair_text_color': 'dark', 'author_flair_type': 'text', 'author_fullname': 't2_4m7xeokh', 'author_patreon_flair': False, 'author_premium': False, 'awarders': [], 'can_mod_post': False, 'contest_mode': False, 'created_utc': 1592255845, 'domain': 'self.berkeley', 'full_link': 'https://www.reddit.com/r/berkeley/comments/h9p40y/fall_2020_will_be_hybrid/', 'gildings': {}, 'id': 'h9p40y', 'is_crosspostable': True, 'is_meta': False, 'is_original_content': False, 'is_reddit_media_domain': False, 'is_robot_indexable': True, 'is_self': True, 'is_video': False, 'link_flair_background_color': '', 'link_flair_richtext': [], 'link_flair_text_color': 'dark', 'link_flair_type': 'text', 'locked': False, 'media_only': False, 'no_follow': False, 'num_comments': 8, 'num_crossposts': 0, 'over_18': False, 'parent_whitelist_status': 'all_ads', 'permalink': '/r/berkeley/comments/h9p40y/fall_2020_will_be_hybrid/', 'pinned': False, 'pwls': 6, 'retrieved_on': 1592256080, 'score': 2, 'selftext': \"Just got a personal email from the chancellor upon asking her the plans for Fall 2020. She confirmed it's gonna be hybrid, with the email coming out this week. Classes smaller than 25 people will be in-person, and the rest would be online.\", 'send_replies': True, 'spoiler': False, 'stickied': False, 'subreddit': 'berkeley', 'subreddit_id': 't5_2qh9w', 'subreddit_subscribers': 39456, 'subreddit_type': 'public', 'thumbnail': 'self', 'title': 'Fall 2020 will be hybrid', 'total_awards_received': 0, 'treatment_tags': [], 'upvote_ratio': 0.67, 'url': 'https://www.reddit.com/r/berkeley/comments/h9p40y/fall_2020_will_be_hybrid/', 'whitelist_status': 'all_ads', 'wls': 6}, {'all_awardings': [], 'allow_live_comments': False, 'author': 'Hooman1111', 'author_flair_css_class': None, 'author_flair_richtext': [], 'author_flair_text': None, 'author_flair_type': 'text', 'author_fullname': 't2_46z0cuaz', 'author_patreon_flair': False, 'author_premium': False, 'awarders': [], 'can_mod_post': False, 'contest_mode': False, 'created_utc': 1592255467, 'domain': 'self.berkeley', 'full_link': 'https://www.reddit.com/r/berkeley/comments/h9ozx6/cs_61b_projects/', 'gildings': {}, 'id': 'h9ozx6', 'is_crosspostable': True, 'is_meta': False, 'is_original_content': False, 'is_reddit_media_domain': False, 'is_robot_indexable': True, 'is_self': True, 'is_video': False, 'link_flair_background_color': '', 'link_flair_richtext': [], 'link_flair_text_color': 'dark', 'link_flair_type': 'text', 'locked': False, 'media_only': False, 'no_follow': True, 'num_comments': 1, 'num_crossposts': 0, 'over_18': False, 'parent_whitelist_status': 'all_ads', 'permalink': '/r/berkeley/comments/h9ozx6/cs_61b_projects/', 'pinned': False, 'pwls': 6, 'retrieved_on': 1592255761, 'score': 1, 'selftext': 'I’m wondering if projects like Nbody, deques, gitlets would be the same every semester? Or there would be some changes in it cuz I’m trying to do the projects from spring 19/18 to better prepare for cs61bl, but would there be any minor changes that I would need to make?', 'send_replies': True, 'spoiler': False, 'stickied': False, 'subreddit': 'berkeley', 'subreddit_id': 't5_2qh9w', 'subreddit_subscribers': 39456, 'subreddit_type': 'public', 'thumbnail': 'self', 'title': 'CS 61B Projects', 'total_awards_received': 0, 'treatment_tags': [], 'upvote_ratio': 1.0, 'url': 'https://www.reddit.com/r/berkeley/comments/h9ozx6/cs_61b_projects/', 'whitelist_status': 'all_ads', 'wls': 6}, {'all_awardings': [], 'allow_live_comments': False, 'author': 'jacobperez9393', 'author_flair_css_class': None, 'author_flair_richtext': [], 'author_flair_text': None, 'author_flair_type': 'text', 'author_fullname': 't2_6p80mt7w', 'author_patreon_flair': False, 'author_premium': False, 'awarders': [], 'can_mod_post': False, 'contest_mode': False, 'created_utc': 1592255357, 'domain': 'self.berkeley', 'full_link': 'https://www.reddit.com/r/berkeley/comments/h9oyqr/public_health_prepa/', 'gildings': {}, 'id': 'h9oyqr', 'is_crosspostable': True, 'is_meta': False, 'is_original_content': False, 'is_reddit_media_domain': False, 'is_robot_indexable': True, 'is_self': True, 'is_video': False, 'link_flair_background_color': '', 'link_flair_richtext': [], 'link_flair_text_color': 'dark', 'link_flair_type': 'text', 'locked': False, 'media_only': False, 'no_follow': True, 'num_comments': 0, 'num_crossposts': 0, 'over_18': False, 'parent_whitelist_status': 'all_ads', 'permalink': '/r/berkeley/comments/h9oyqr/public_health_prepa/', 'pinned': False, 'pwls': 6, 'retrieved_on': 1592255669, 'score': 1, 'selftext': 'Hello, so I have gotten advice on the Public health pre-pa classes for this incoming fall as a freshmen. And I have decided on these courses for my first semester. I just wanted some intake on what I should be expecting in taking these courses and if it’s a good idea. I was planning on doing Math16A Chem 1A MCB 32 then R1A. Thank you to anyone who can help!', 'send_replies': True, 'spoiler': False, 'stickied': False, 'subreddit': 'berkeley', 'subreddit_id': 't5_2qh9w', 'subreddit_subscribers': 39456, 'subreddit_type': 'public', 'thumbnail': 'self', 'title': 'Public Health Pre-PA', 'total_awards_received': 0, 'treatment_tags': [], 'upvote_ratio': 0.99, 'url': 'https://www.reddit.com/r/berkeley/comments/h9oyqr/public_health_prepa/', 'whitelist_status': 'all_ads', 'wls': 6}]\n",
            "10\n",
            "{'all_awardings': [], 'allow_live_comments': False, 'author': 'asilvermourning', 'author_flair_css_class': None, 'author_flair_richtext': [], 'author_flair_text': None, 'author_flair_type': 'text', 'author_fullname': 't2_630ru2s', 'author_patreon_flair': False, 'author_premium': False, 'awarders': [], 'can_mod_post': False, 'contest_mode': False, 'created_utc': 1592262616, 'domain': 'self.berkeley', 'full_link': 'https://www.reddit.com/r/berkeley/comments/h9r6bu/sigma_phi_thorsen_house/', 'gildings': {}, 'id': 'h9r6bu', 'is_crosspostable': True, 'is_meta': False, 'is_original_content': False, 'is_reddit_media_domain': False, 'is_robot_indexable': True, 'is_self': True, 'is_video': False, 'link_flair_background_color': '', 'link_flair_richtext': [], 'link_flair_text_color': 'dark', 'link_flair_type': 'text', 'locked': False, 'media_only': False, 'no_follow': True, 'num_comments': 0, 'num_crossposts': 0, 'over_18': False, 'parent_whitelist_status': 'all_ads', 'permalink': '/r/berkeley/comments/h9r6bu/sigma_phi_thorsen_house/', 'pinned': False, 'pwls': 6, 'retrieved_on': 1592262620, 'score': 1, 'selftext': 'Random question I had after reading about some Berkeley landmarks... is sigma phi still active? What do they do (are they a regular frat?)?', 'send_replies': True, 'spoiler': False, 'stickied': False, 'subreddit': 'berkeley', 'subreddit_id': 't5_2qh9w', 'subreddit_subscribers': 39463, 'subreddit_type': 'public', 'thumbnail': 'self', 'title': 'Sigma Phi - Thorsen House', 'total_awards_received': 0, 'treatment_tags': [], 'upvote_ratio': 1.0, 'url': 'https://www.reddit.com/r/berkeley/comments/h9r6bu/sigma_phi_thorsen_house/', 'whitelist_status': 'all_ads', 'wls': 6}\n",
            "{'all_awardings': [], 'allow_live_comments': False, 'author': 'bayleafcandle', 'author_flair_css_class': None, 'author_flair_richtext': [], 'author_flair_text': None, 'author_flair_type': 'text', 'author_fullname': 't2_h0etji', 'author_patreon_flair': False, 'author_premium': False, 'awarders': [], 'can_mod_post': False, 'contest_mode': False, 'created_utc': 1592260263, 'domain': 'self.berkeley', 'full_link': 'https://www.reddit.com/r/berkeley/comments/h9qftg/has_anyone_taken_a_class_with_malone_or_ortiz/', 'gildings': {}, 'id': 'h9qftg', 'is_crosspostable': True, 'is_meta': False, 'is_original_content': False, 'is_reddit_media_domain': False, 'is_robot_indexable': True, 'is_self': True, 'is_video': False, 'link_flair_background_color': '', 'link_flair_richtext': [], 'link_flair_text_color': 'dark', 'link_flair_type': 'text', 'locked': False, 'media_only': False, 'no_follow': True, 'num_comments': 0, 'num_crossposts': 0, 'over_18': False, 'parent_whitelist_status': 'all_ads', 'permalink': '/r/berkeley/comments/h9qftg/has_anyone_taken_a_class_with_malone_or_ortiz/', 'pinned': False, 'pwls': 6, 'retrieved_on': 1592260267, 'score': 1, 'selftext': 'I posted this yesterday but deleted it shortly after because I was still deciding between classes. These two professors’ classes seemed interesting but there’s nothing about them on ratemyprofessor so I was curious if anyone had any insight.', 'send_replies': True, 'spoiler': False, 'stickied': False, 'subreddit': 'berkeley', 'subreddit_id': 't5_2qh9w', 'subreddit_subscribers': 39461, 'subreddit_type': 'public', 'thumbnail': 'self', 'title': 'Has anyone taken a class with Malone or Ortiz?', 'total_awards_received': 0, 'treatment_tags': [], 'upvote_ratio': 1.0, 'url': 'https://www.reddit.com/r/berkeley/comments/h9qftg/has_anyone_taken_a_class_with_malone_or_ortiz/', 'whitelist_status': 'all_ads', 'wls': 6}\n",
            "{'all_awardings': [], 'allow_live_comments': False, 'author': 'Ahtheuncertainty', 'author_flair_css_class': None, 'author_flair_richtext': [], 'author_flair_text': None, 'author_flair_type': 'text', 'author_fullname': 't2_4uaoxc3w', 'author_patreon_flair': False, 'author_premium': False, 'awarders': [], 'can_mod_post': False, 'contest_mode': False, 'created_utc': 1592259623, 'domain': 'i.redd.it', 'full_link': 'https://www.reddit.com/r/berkeley/comments/h9q8s0/_/', 'gildings': {}, 'id': 'h9q8s0', 'is_crosspostable': True, 'is_meta': False, 'is_original_content': False, 'is_reddit_media_domain': True, 'is_robot_indexable': True, 'is_self': False, 'is_video': False, 'link_flair_background_color': '', 'link_flair_richtext': [], 'link_flair_text_color': 'dark', 'link_flair_type': 'text', 'locked': False, 'media_only': False, 'no_follow': True, 'num_comments': 0, 'num_crossposts': 0, 'over_18': False, 'parent_whitelist_status': 'all_ads', 'permalink': '/r/berkeley/comments/h9q8s0/_/', 'pinned': False, 'post_hint': 'image', 'preview': {'enabled': True, 'images': [{'id': 'GrVbygV_EWcS5ne57oH0K-BDfFzPCyoxullLUa3g054', 'resolutions': [{'height': 216, 'url': 'https://preview.redd.it/7u0v9yytf5551.jpg?width=108&amp;crop=smart&amp;auto=webp&amp;s=152118e068d792f6c19f5065d2c621e7c120b864', 'width': 108}, {'height': 432, 'url': 'https://preview.redd.it/7u0v9yytf5551.jpg?width=216&amp;crop=smart&amp;auto=webp&amp;s=46eba440593f86b5a14137d62e1313d200ce9cc9', 'width': 216}, {'height': 640, 'url': 'https://preview.redd.it/7u0v9yytf5551.jpg?width=320&amp;crop=smart&amp;auto=webp&amp;s=a47ae86ea74a9050fc42c903ddabd11802abc6b1', 'width': 320}, {'height': 1280, 'url': 'https://preview.redd.it/7u0v9yytf5551.jpg?width=640&amp;crop=smart&amp;auto=webp&amp;s=28e433cf6fdb9d7461b2234da291c53454756381', 'width': 640}, {'height': 1920, 'url': 'https://preview.redd.it/7u0v9yytf5551.jpg?width=960&amp;crop=smart&amp;auto=webp&amp;s=ebf5c77e33f6512adf31a249906918b93ff2da26', 'width': 960}, {'height': 2160, 'url': 'https://preview.redd.it/7u0v9yytf5551.jpg?width=1080&amp;crop=smart&amp;auto=webp&amp;s=d18e7a131cd764f0c181b1f4b76242549506de4a', 'width': 1080}], 'source': {'height': 4422, 'url': 'https://preview.redd.it/7u0v9yytf5551.jpg?auto=webp&amp;s=050448c0aedf081e73cc960b1565ffb0784b6067', 'width': 1280}, 'variants': {}}]}, 'pwls': 6, 'retrieved_on': 1592259629, 'score': 1, 'selftext': '', 'send_replies': True, 'spoiler': False, 'stickied': False, 'subreddit': 'berkeley', 'subreddit_id': 't5_2qh9w', 'subreddit_subscribers': 39460, 'subreddit_type': 'public', 'thumbnail': 'https://b.thumbs.redditmedia.com/lRRQ4czCrYfD35I2L_jp9PGfRP-F7MKXv2DjBaYHeBg.jpg', 'thumbnail_height': 140, 'thumbnail_width': 140, 'title': '🤷\\u200d♂️', 'total_awards_received': 0, 'treatment_tags': [], 'upvote_ratio': 1.0, 'url': 'https://i.redd.it/7u0v9yytf5551.jpg', 'whitelist_status': 'all_ads', 'wls': 6}\n",
            "{'all_awardings': [], 'allow_live_comments': False, 'author': 'nobuthefluffy', 'author_flair_css_class': None, 'author_flair_richtext': [], 'author_flair_text': None, 'author_flair_type': 'text', 'author_fullname': 't2_6b2zkyvf', 'author_patreon_flair': False, 'author_premium': False, 'awarders': [], 'can_mod_post': False, 'contest_mode': False, 'created_utc': 1592259157, 'domain': 'self.berkeley', 'full_link': 'https://www.reddit.com/r/berkeley/comments/h9q3pz/envecon_100_with_leo_k_simon/', 'gildings': {}, 'id': 'h9q3pz', 'is_crosspostable': True, 'is_meta': False, 'is_original_content': False, 'is_reddit_media_domain': False, 'is_robot_indexable': True, 'is_self': True, 'is_video': False, 'link_flair_background_color': '', 'link_flair_richtext': [], 'link_flair_text_color': 'dark', 'link_flair_type': 'text', 'locked': False, 'media_only': False, 'no_follow': True, 'num_comments': 0, 'num_crossposts': 0, 'over_18': False, 'parent_whitelist_status': 'all_ads', 'permalink': '/r/berkeley/comments/h9q3pz/envecon_100_with_leo_k_simon/', 'pinned': False, 'pwls': 6, 'retrieved_on': 1592259163, 'score': 1, 'selftext': 'Was trying to see how good this professor is but there seem nothing on rate my professor. Has anyone here have taken this/any class with him?', 'send_replies': True, 'spoiler': False, 'stickied': False, 'subreddit': 'berkeley', 'subreddit_id': 't5_2qh9w', 'subreddit_subscribers': 39458, 'subreddit_type': 'public', 'thumbnail': 'self', 'title': 'ENVECON 100 with Leo K Simon?', 'total_awards_received': 0, 'treatment_tags': [], 'upvote_ratio': 1.0, 'url': 'https://www.reddit.com/r/berkeley/comments/h9q3pz/envecon_100_with_leo_k_simon/', 'whitelist_status': 'all_ads', 'wls': 6}\n",
            "{'all_awardings': [], 'allow_live_comments': False, 'author': 'LadyOfIthilien', 'author_flair_css_class': None, 'author_flair_richtext': [], 'author_flair_text': None, 'author_flair_type': 'text', 'author_fullname': 't2_9pcos', 'author_patreon_flair': False, 'author_premium': False, 'awarders': [], 'can_mod_post': False, 'contest_mode': False, 'created_utc': 1592257192, 'domain': 'imgur.com', 'full_link': 'https://www.reddit.com/r/berkeley/comments/h9piec/long_live_the_building_formerly_known_as_lsa/', 'gildings': {}, 'id': 'h9piec', 'is_crosspostable': True, 'is_meta': False, 'is_original_content': False, 'is_reddit_media_domain': False, 'is_robot_indexable': True, 'is_self': False, 'is_video': False, 'link_flair_background_color': '', 'link_flair_richtext': [], 'link_flair_text_color': 'dark', 'link_flair_type': 'text', 'locked': False, 'media': {'oembed': {'description': 'Post with 0 views.', 'height': 401, 'html': '&lt;iframe class=\"embedly-embed\" src=\"https://cdn.embedly.com/widgets/media.html?src=https%3A%2F%2Fimgur.com%2Fa%2FD9rT3KL%2Fembed%3Fpub%3Dtrue%26ref%3Dhttps%253A%252F%252Fembed.ly%26w%3D512&amp;display_name=Imgur&amp;url=https%3A%2F%2Fimgur.com%2Fa%2FD9rT3KL&amp;image=https%3A%2F%2Fi.imgur.com%2F1iFLhLE.jpg%3Ffb&amp;key=ed8fa8699ce04833838e66ce79ba05f1&amp;type=text%2Fhtml&amp;schema=imgur\" width=\"512\" height=\"401\" scrolling=\"no\" title=\"Imgur embed\" frameborder=\"0\" allow=\"autoplay; fullscreen\" allowfullscreen=\"true\"&gt;&lt;/iframe&gt;', 'provider_name': 'Imgur', 'provider_url': 'http://imgur.com', 'thumbnail_height': 315, 'thumbnail_url': 'https://i.embed.ly/1/image?url=https%3A%2F%2Fi.imgur.com%2F1iFLhLE.jpg%3Ffb&amp;key=ed8fa8699ce04833838e66ce79ba05f1', 'thumbnail_width': 600, 'title': 'Imgur', 'type': 'rich', 'url': 'https://imgur.com/a/D9rT3KL', 'version': '1.0', 'width': 512}, 'type': 'imgur.com'}, 'media_embed': {'content': '&lt;iframe class=\"embedly-embed\" src=\"https://cdn.embedly.com/widgets/media.html?src=https%3A%2F%2Fimgur.com%2Fa%2FD9rT3KL%2Fembed%3Fpub%3Dtrue%26ref%3Dhttps%253A%252F%252Fembed.ly%26w%3D512&amp;display_name=Imgur&amp;url=https%3A%2F%2Fimgur.com%2Fa%2FD9rT3KL&amp;image=https%3A%2F%2Fi.imgur.com%2F1iFLhLE.jpg%3Ffb&amp;key=ed8fa8699ce04833838e66ce79ba05f1&amp;type=text%2Fhtml&amp;schema=imgur\" width=\"512\" height=\"401\" scrolling=\"no\" title=\"Imgur embed\" frameborder=\"0\" allow=\"autoplay; fullscreen\" allowfullscreen=\"true\"&gt;&lt;/iframe&gt;', 'height': 401, 'scrolling': False, 'width': 512}, 'media_only': False, 'no_follow': True, 'num_comments': 2, 'num_crossposts': 0, 'over_18': False, 'parent_whitelist_status': 'all_ads', 'permalink': '/r/berkeley/comments/h9piec/long_live_the_building_formerly_known_as_lsa/', 'pinned': False, 'post_hint': 'link', 'preview': {'enabled': False, 'images': [{'id': '5E55uPXLFFHHUTHaGhK_YoukFEXfjW2nXkfn3W3Ii5g', 'resolutions': [{'height': 71, 'url': 'https://external-preview.redd.it/yyAXS8DYzqQRfZl6Czko_XBSUEqpWwKpI-GTVd0b-Oo.jpg?width=108&amp;crop=smart&amp;auto=webp&amp;s=6cc004c36fc617f5cc412a9288b574aad736c922', 'width': 108}, {'height': 143, 'url': 'https://external-preview.redd.it/yyAXS8DYzqQRfZl6Czko_XBSUEqpWwKpI-GTVd0b-Oo.jpg?width=216&amp;crop=smart&amp;auto=webp&amp;s=4de4245c8aa881db49187ccbbfa940b99bc1f41a', 'width': 216}, {'height': 213, 'url': 'https://external-preview.redd.it/yyAXS8DYzqQRfZl6Czko_XBSUEqpWwKpI-GTVd0b-Oo.jpg?width=320&amp;crop=smart&amp;auto=webp&amp;s=7a2daa332fd1a0ecd2adced5d1487b095e87d6cb', 'width': 320}], 'source': {'height': 341, 'url': 'https://external-preview.redd.it/yyAXS8DYzqQRfZl6Czko_XBSUEqpWwKpI-GTVd0b-Oo.jpg?auto=webp&amp;s=d9493e05f70299dbf3926af6a61900738131aed7', 'width': 512}, 'variants': {}}]}, 'pwls': 6, 'retrieved_on': 1592257222, 'score': 1, 'secure_media': {'oembed': {'description': 'Post with 0 views.', 'height': 401, 'html': '&lt;iframe class=\"embedly-embed\" src=\"https://cdn.embedly.com/widgets/media.html?src=https%3A%2F%2Fimgur.com%2Fa%2FD9rT3KL%2Fembed%3Fpub%3Dtrue%26ref%3Dhttps%253A%252F%252Fembed.ly%26w%3D512&amp;display_name=Imgur&amp;url=https%3A%2F%2Fimgur.com%2Fa%2FD9rT3KL&amp;image=https%3A%2F%2Fi.imgur.com%2F1iFLhLE.jpg%3Ffb&amp;key=ed8fa8699ce04833838e66ce79ba05f1&amp;type=text%2Fhtml&amp;schema=imgur\" width=\"512\" height=\"401\" scrolling=\"no\" title=\"Imgur embed\" frameborder=\"0\" allow=\"autoplay; fullscreen\" allowfullscreen=\"true\"&gt;&lt;/iframe&gt;', 'provider_name': 'Imgur', 'provider_url': 'http://imgur.com', 'thumbnail_height': 315, 'thumbnail_url': 'https://i.embed.ly/1/image?url=https%3A%2F%2Fi.imgur.com%2F1iFLhLE.jpg%3Ffb&amp;key=ed8fa8699ce04833838e66ce79ba05f1', 'thumbnail_width': 600, 'title': 'Imgur', 'type': 'rich', 'url': 'https://imgur.com/a/D9rT3KL', 'version': '1.0', 'width': 512}, 'type': 'imgur.com'}, 'secure_media_embed': {'content': '&lt;iframe class=\"embedly-embed\" src=\"https://cdn.embedly.com/widgets/media.html?src=https%3A%2F%2Fimgur.com%2Fa%2FD9rT3KL%2Fembed%3Fpub%3Dtrue%26ref%3Dhttps%253A%252F%252Fembed.ly%26w%3D512&amp;display_name=Imgur&amp;url=https%3A%2F%2Fimgur.com%2Fa%2FD9rT3KL&amp;image=https%3A%2F%2Fi.imgur.com%2F1iFLhLE.jpg%3Ffb&amp;key=ed8fa8699ce04833838e66ce79ba05f1&amp;type=text%2Fhtml&amp;schema=imgur\" width=\"512\" height=\"401\" scrolling=\"no\" title=\"Imgur embed\" frameborder=\"0\" allow=\"autoplay; fullscreen\" allowfullscreen=\"true\"&gt;&lt;/iframe&gt;', 'height': 401, 'media_domain_url': 'https://www.redditmedia.com/mediaembed/h9piec', 'scrolling': False, 'width': 512}, 'selftext': '', 'send_replies': True, 'spoiler': False, 'stickied': False, 'subreddit': 'berkeley', 'subreddit_id': 't5_2qh9w', 'subreddit_subscribers': 39456, 'subreddit_type': 'public', 'thumbnail': 'https://b.thumbs.redditmedia.com/uHOR6T_FmKFsSgcVMxZ4ix8eHEOOvWLUDsnBKY0Rb4Y.jpg', 'thumbnail_height': 93, 'thumbnail_width': 140, 'title': 'Long Live The Building Formerly Known as LSA', 'total_awards_received': 0, 'treatment_tags': [], 'upvote_ratio': 1.0, 'url': 'https://imgur.com/a/D9rT3KL', 'whitelist_status': 'all_ads', 'wls': 6}\n",
            "{'all_awardings': [], 'allow_live_comments': False, 'author': 'Additional-Charge', 'author_flair_css_class': None, 'author_flair_richtext': [], 'author_flair_text': None, 'author_flair_type': 'text', 'author_fullname': 't2_5h4cf838', 'author_patreon_flair': False, 'author_premium': False, 'awarders': [], 'can_mod_post': False, 'contest_mode': False, 'created_utc': 1592257135, 'domain': 'self.berkeley', 'full_link': 'https://www.reddit.com/r/berkeley/comments/h9phty/61a_class_size_expansion_for_enrollment/', 'gildings': {}, 'id': 'h9phty', 'is_crosspostable': True, 'is_meta': False, 'is_original_content': False, 'is_reddit_media_domain': False, 'is_robot_indexable': True, 'is_self': True, 'is_video': False, 'link_flair_background_color': '', 'link_flair_richtext': [], 'link_flair_text_color': 'dark', 'link_flair_type': 'text', 'locked': False, 'media_only': False, 'no_follow': True, 'num_comments': 1, 'num_crossposts': 0, 'over_18': False, 'parent_whitelist_status': 'all_ads', 'permalink': '/r/berkeley/comments/h9phty/61a_class_size_expansion_for_enrollment/', 'pinned': False, 'pwls': 6, 'retrieved_on': 1592257175, 'score': 1, 'selftext': 'Someone told me that for 61A the class size will expand to whatever size is necessary (like there is no cap to the size of the class). I am a new freshman, and I plan to enroll in 16 units, meaning that I have to enroll in one class later bc of the unit cap. Will I be able to get 61A (and if so, at the time slot I want) if I enroll in that one later, in august?', 'send_replies': True, 'spoiler': False, 'stickied': False, 'subreddit': 'berkeley', 'subreddit_id': 't5_2qh9w', 'subreddit_subscribers': 39456, 'subreddit_type': 'public', 'thumbnail': 'self', 'title': '61A class size expansion for enrollment?', 'total_awards_received': 0, 'treatment_tags': [], 'upvote_ratio': 1.0, 'url': 'https://www.reddit.com/r/berkeley/comments/h9phty/61a_class_size_expansion_for_enrollment/', 'whitelist_status': 'all_ads', 'wls': 6}\n",
            "{'all_awardings': [], 'allow_live_comments': False, 'author': 'beary-cute', 'author_flair_css_class': None, 'author_flair_richtext': [], 'author_flair_text': None, 'author_flair_type': 'text', 'author_fullname': 't2_6wxskb6r', 'author_patreon_flair': False, 'author_premium': False, 'awarders': [], 'can_mod_post': False, 'contest_mode': False, 'created_utc': 1592256376, 'domain': 'i.redd.it', 'full_link': 'https://www.reddit.com/r/berkeley/comments/h9p9px/as_seen_on_overheard_just_in_case_anyone_is/', 'gildings': {}, 'id': 'h9p9px', 'is_crosspostable': True, 'is_meta': False, 'is_original_content': False, 'is_reddit_media_domain': True, 'is_robot_indexable': True, 'is_self': False, 'is_video': False, 'link_flair_background_color': '', 'link_flair_richtext': [], 'link_flair_text_color': 'dark', 'link_flair_type': 'text', 'locked': False, 'media_only': False, 'no_follow': True, 'num_comments': 5, 'num_crossposts': 0, 'over_18': False, 'parent_whitelist_status': 'all_ads', 'permalink': '/r/berkeley/comments/h9p9px/as_seen_on_overheard_just_in_case_anyone_is/', 'pinned': False, 'post_hint': 'image', 'preview': {'enabled': True, 'images': [{'id': 'LZiCohr43wZwbRajpbnuc3O_5KMioW9CkvoO7NcLJZo', 'resolutions': [{'height': 216, 'url': 'https://preview.redd.it/oxp9hyg665551.jpg?width=108&amp;crop=smart&amp;auto=webp&amp;s=dc3a1fc0818680953e67ee69ba87a9acc9da6717', 'width': 108}, {'height': 432, 'url': 'https://preview.redd.it/oxp9hyg665551.jpg?width=216&amp;crop=smart&amp;auto=webp&amp;s=af0beb99096cb08eb297ab50928c8933b261efa6', 'width': 216}, {'height': 640, 'url': 'https://preview.redd.it/oxp9hyg665551.jpg?width=320&amp;crop=smart&amp;auto=webp&amp;s=b1b74cc3f6f81a2a6bdca8528b3d3de8b56760fc', 'width': 320}], 'source': {'height': 960, 'url': 'https://preview.redd.it/oxp9hyg665551.jpg?auto=webp&amp;s=b4d49040db6f81b22f596cfe1146937d9ded5c36', 'width': 444}, 'variants': {}}]}, 'pwls': 6, 'retrieved_on': 1592256528, 'score': 1, 'selftext': '', 'send_replies': True, 'spoiler': False, 'stickied': False, 'subreddit': 'berkeley', 'subreddit_id': 't5_2qh9w', 'subreddit_subscribers': 39456, 'subreddit_type': 'public', 'thumbnail': 'https://a.thumbs.redditmedia.com/EnMWBOKk1-eyqbalpOi6Wy3sY8_VxnFYs5VbffLyjc0.jpg', 'thumbnail_height': 140, 'thumbnail_width': 140, 'title': 'As Seen on Overheard: “Just in case anyone is doubting the legitimacy of the other email that was recently posted here 😳🤝”', 'total_awards_received': 0, 'treatment_tags': [], 'upvote_ratio': 1.0, 'url': 'https://i.redd.it/oxp9hyg665551.jpg', 'whitelist_status': 'all_ads', 'wls': 6}\n",
            "{'all_awardings': [], 'allow_live_comments': False, 'author': 'DaddyOski', 'author_flair_css_class': None, 'author_flair_richtext': [], 'author_flair_template_id': '59c45072-2446-11e5-aad7-0e7f0fa558f9', 'author_flair_text': None, 'author_flair_text_color': 'dark', 'author_flair_type': 'text', 'author_fullname': 't2_4m7xeokh', 'author_patreon_flair': False, 'author_premium': False, 'awarders': [], 'can_mod_post': False, 'contest_mode': False, 'created_utc': 1592255845, 'domain': 'self.berkeley', 'full_link': 'https://www.reddit.com/r/berkeley/comments/h9p40y/fall_2020_will_be_hybrid/', 'gildings': {}, 'id': 'h9p40y', 'is_crosspostable': True, 'is_meta': False, 'is_original_content': False, 'is_reddit_media_domain': False, 'is_robot_indexable': True, 'is_self': True, 'is_video': False, 'link_flair_background_color': '', 'link_flair_richtext': [], 'link_flair_text_color': 'dark', 'link_flair_type': 'text', 'locked': False, 'media_only': False, 'no_follow': False, 'num_comments': 8, 'num_crossposts': 0, 'over_18': False, 'parent_whitelist_status': 'all_ads', 'permalink': '/r/berkeley/comments/h9p40y/fall_2020_will_be_hybrid/', 'pinned': False, 'pwls': 6, 'retrieved_on': 1592256080, 'score': 2, 'selftext': \"Just got a personal email from the chancellor upon asking her the plans for Fall 2020. She confirmed it's gonna be hybrid, with the email coming out this week. Classes smaller than 25 people will be in-person, and the rest would be online.\", 'send_replies': True, 'spoiler': False, 'stickied': False, 'subreddit': 'berkeley', 'subreddit_id': 't5_2qh9w', 'subreddit_subscribers': 39456, 'subreddit_type': 'public', 'thumbnail': 'self', 'title': 'Fall 2020 will be hybrid', 'total_awards_received': 0, 'treatment_tags': [], 'upvote_ratio': 0.67, 'url': 'https://www.reddit.com/r/berkeley/comments/h9p40y/fall_2020_will_be_hybrid/', 'whitelist_status': 'all_ads', 'wls': 6}\n",
            "{'all_awardings': [], 'allow_live_comments': False, 'author': 'Hooman1111', 'author_flair_css_class': None, 'author_flair_richtext': [], 'author_flair_text': None, 'author_flair_type': 'text', 'author_fullname': 't2_46z0cuaz', 'author_patreon_flair': False, 'author_premium': False, 'awarders': [], 'can_mod_post': False, 'contest_mode': False, 'created_utc': 1592255467, 'domain': 'self.berkeley', 'full_link': 'https://www.reddit.com/r/berkeley/comments/h9ozx6/cs_61b_projects/', 'gildings': {}, 'id': 'h9ozx6', 'is_crosspostable': True, 'is_meta': False, 'is_original_content': False, 'is_reddit_media_domain': False, 'is_robot_indexable': True, 'is_self': True, 'is_video': False, 'link_flair_background_color': '', 'link_flair_richtext': [], 'link_flair_text_color': 'dark', 'link_flair_type': 'text', 'locked': False, 'media_only': False, 'no_follow': True, 'num_comments': 1, 'num_crossposts': 0, 'over_18': False, 'parent_whitelist_status': 'all_ads', 'permalink': '/r/berkeley/comments/h9ozx6/cs_61b_projects/', 'pinned': False, 'pwls': 6, 'retrieved_on': 1592255761, 'score': 1, 'selftext': 'I’m wondering if projects like Nbody, deques, gitlets would be the same every semester? Or there would be some changes in it cuz I’m trying to do the projects from spring 19/18 to better prepare for cs61bl, but would there be any minor changes that I would need to make?', 'send_replies': True, 'spoiler': False, 'stickied': False, 'subreddit': 'berkeley', 'subreddit_id': 't5_2qh9w', 'subreddit_subscribers': 39456, 'subreddit_type': 'public', 'thumbnail': 'self', 'title': 'CS 61B Projects', 'total_awards_received': 0, 'treatment_tags': [], 'upvote_ratio': 1.0, 'url': 'https://www.reddit.com/r/berkeley/comments/h9ozx6/cs_61b_projects/', 'whitelist_status': 'all_ads', 'wls': 6}\n",
            "{'all_awardings': [], 'allow_live_comments': False, 'author': 'jacobperez9393', 'author_flair_css_class': None, 'author_flair_richtext': [], 'author_flair_text': None, 'author_flair_type': 'text', 'author_fullname': 't2_6p80mt7w', 'author_patreon_flair': False, 'author_premium': False, 'awarders': [], 'can_mod_post': False, 'contest_mode': False, 'created_utc': 1592255357, 'domain': 'self.berkeley', 'full_link': 'https://www.reddit.com/r/berkeley/comments/h9oyqr/public_health_prepa/', 'gildings': {}, 'id': 'h9oyqr', 'is_crosspostable': True, 'is_meta': False, 'is_original_content': False, 'is_reddit_media_domain': False, 'is_robot_indexable': True, 'is_self': True, 'is_video': False, 'link_flair_background_color': '', 'link_flair_richtext': [], 'link_flair_text_color': 'dark', 'link_flair_type': 'text', 'locked': False, 'media_only': False, 'no_follow': True, 'num_comments': 0, 'num_crossposts': 0, 'over_18': False, 'parent_whitelist_status': 'all_ads', 'permalink': '/r/berkeley/comments/h9oyqr/public_health_prepa/', 'pinned': False, 'pwls': 6, 'retrieved_on': 1592255669, 'score': 1, 'selftext': 'Hello, so I have gotten advice on the Public health pre-pa classes for this incoming fall as a freshmen. And I have decided on these courses for my first semester. I just wanted some intake on what I should be expecting in taking these courses and if it’s a good idea. I was planning on doing Math16A Chem 1A MCB 32 then R1A. Thank you to anyone who can help!', 'send_replies': True, 'spoiler': False, 'stickied': False, 'subreddit': 'berkeley', 'subreddit_id': 't5_2qh9w', 'subreddit_subscribers': 39456, 'subreddit_type': 'public', 'thumbnail': 'self', 'title': 'Public Health Pre-PA', 'total_awards_received': 0, 'treatment_tags': [], 'upvote_ratio': 0.99, 'url': 'https://www.reddit.com/r/berkeley/comments/h9oyqr/public_health_prepa/', 'whitelist_status': 'all_ads', 'wls': 6}\n",
            "['bayleafcandle', 'https://www.reddit.com/r/berkeley/comments/h9qftg/has_anyone_taken_a_class_with_malone_or_ortiz/']\n"
          ],
          "name": "stdout"
        }
      ]
    },
    {
      "cell_type": "code",
      "metadata": {
        "id": "_bVnyY62f6V3",
        "colab_type": "code",
        "colab": {}
      },
      "source": [
        "from google.colab import files\n",
        "\n",
        "with open('example.txt', 'w') as f:\n",
        "  json.dump(test, f)\n",
        "\n",
        "files.download('example.txt')"
      ],
      "execution_count": null,
      "outputs": []
    },
    {
      "cell_type": "code",
      "metadata": {
        "id": "0lOnkzmWOo5x",
        "colab_type": "code",
        "colab": {}
      },
      "source": [
        "def give_me_intervals(start_at, number_of_days_per_interval = 3):\n",
        "    \n",
        "    end_at = math.ceil(datetime.utcnow().timestamp())\n",
        "        \n",
        "    ## 1 day = 86400,\n",
        "    period = (86400 * number_of_days_per_interval)\n",
        "\n",
        "    end = start_at + period\n",
        "    yield (int(start_at), int(end))\n",
        "\n",
        "    padding = 1\n",
        "    while end <= end_at:\n",
        "        start_at = end + padding\n",
        "        end = (start_at - padding) + period\n",
        "        yield int(start_at), int(end)\n",
        "\n",
        "def make_request(uri, max_retries = 5):\n",
        "    def fire_away(uri):\n",
        "        response = requests.get(uri)\n",
        "        assert response.status_code == 200\n",
        "        return json.loads(response.content)\n",
        "\n",
        "    current_tries = 1\n",
        "    while current_tries < max_retries:\n",
        "        try:\n",
        "            response = fire_away(uri)\n",
        "            return response\n",
        "        except:\n",
        "            time.sleep(.150)\n",
        "            current_tries += 1\n",
        "\n",
        "    return fire_away(uri)\n",
        " \n",
        "def pull_posts_for(subreddit, start_at, end_at):\n",
        "    \n",
        "    def map_posts(posts):\n",
        "        return list(map(lambda post: {\n",
        "            'id': post['id'],\n",
        "            'created_utc': post['created_utc'],\n",
        "            'prefix': 't4_'\n",
        "        }, posts))\n",
        "    \n",
        "    SIZE = 500\n",
        "    URI_TEMPLATE = r'https://api.pushshift.io/reddit/search/submission?subreddit={}&after={}&before={}&size={}'\n",
        "    \n",
        "    post_collections = map_posts( \\\n",
        "        make_request( \\\n",
        "            URI_TEMPLATE.format(subreddit, start_at, end_at, SIZE))['data'])\n",
        "\n",
        "    n = len(post_collections)\n",
        "    while n == SIZE:\n",
        "        last = post_collections[-1]\n",
        "        new_start_at = last['created_utc'] - 10\n",
        "        \n",
        "        more_posts = map_posts( \\\n",
        "            make_request( \\\n",
        "                URI_TEMPLATE.format(subreddit, new_start_at, end_at, SIZE))['data'])\n",
        "        \n",
        "        n = len(more_posts)\n",
        "        post_collections.extend(more_posts)\n",
        "\n",
        "    return post_collections"
      ],
      "execution_count": null,
      "outputs": []
    },
    {
      "cell_type": "code",
      "metadata": {
        "id": "3T-RyE-nQ2uc",
        "colab_type": "code",
        "colab": {}
      },
      "source": [
        ""
      ],
      "execution_count": null,
      "outputs": []
    },
    {
      "cell_type": "code",
      "metadata": {
        "id": "o-UwKtnGOrO7",
        "colab_type": "code",
        "colab": {
          "base_uri": "https://localhost:8080/",
          "height": 51
        },
        "outputId": "c69a0077-f46a-4925-f189-c763e2023fcb"
      },
      "source": [
        "subreddit = 'berkeley'\n",
        "\n",
        "end_at = math.ceil(datetime.utcnow().timestamp())\n",
        "start_at = math.floor((datetime.utcnow() - timedelta(days=10)).timestamp())\n",
        "\n",
        "posts = pull_posts_for(subreddit, start_at, end_at)\n",
        "\n",
        "print('found:', len(posts))\n",
        "print('unique:', len(np.unique([ post['id'] for post in posts ])))"
      ],
      "execution_count": null,
      "outputs": [
        {
          "output_type": "stream",
          "text": [
            "found: 464\n",
            "unique: 464\n"
          ],
          "name": "stdout"
        }
      ]
    },
    {
      "cell_type": "code",
      "metadata": {
        "id": "u2w6ZLzmOuxo",
        "colab_type": "code",
        "colab": {
          "base_uri": "https://localhost:8080/",
          "height": 187
        },
        "outputId": "42f129f1-f9b4-4cdf-d5a1-5516ab154d10"
      },
      "source": [
        "## assert no dups,\n",
        "sorted_by_occurence = sorted([ (k, len(list(g))) for k,g in itertools.groupby(posts, lambda x: x['id']) ], key=lambda x: x[1], reverse=True)\n",
        "sorted_by_occurence[:10]"
      ],
      "execution_count": null,
      "outputs": [
        {
          "output_type": "execute_result",
          "data": {
            "text/plain": [
              "[('gxfgun', 1),\n",
              " ('gxfjch', 1),\n",
              " ('gxft9j', 1),\n",
              " ('gxgctm', 1),\n",
              " ('gxgg6p', 1),\n",
              " ('gxgl1r', 1),\n",
              " ('gxgnqy', 1),\n",
              " ('gxh5rz', 1),\n",
              " ('gxhjat', 1),\n",
              " ('gxhxwm', 1)]"
            ]
          },
          "metadata": {
            "tags": []
          },
          "execution_count": 4
        }
      ]
    },
    {
      "cell_type": "code",
      "metadata": {
        "id": "5o1sO75hOxiC",
        "colab_type": "code",
        "colab": {
          "base_uri": "https://localhost:8080/",
          "height": 187
        },
        "outputId": "d68e0b0d-b2fd-49ed-b758-7f47dc7422e7"
      },
      "source": [
        "\n",
        "## quick look at the posts,\n",
        "posts[:10]"
      ],
      "execution_count": null,
      "outputs": [
        {
          "output_type": "execute_result",
          "data": {
            "text/plain": [
              "[{'created_utc': 1591399178, 'id': 'gxfgun', 'prefix': 't4_'},\n",
              " {'created_utc': 1591399418, 'id': 'gxfjch', 'prefix': 't4_'},\n",
              " {'created_utc': 1591400375, 'id': 'gxft9j', 'prefix': 't4_'},\n",
              " {'created_utc': 1591402276, 'id': 'gxgctm', 'prefix': 't4_'},\n",
              " {'created_utc': 1591402614, 'id': 'gxgg6p', 'prefix': 't4_'},\n",
              " {'created_utc': 1591403099, 'id': 'gxgl1r', 'prefix': 't4_'},\n",
              " {'created_utc': 1591403372, 'id': 'gxgnqy', 'prefix': 't4_'},\n",
              " {'created_utc': 1591405214, 'id': 'gxh5rz', 'prefix': 't4_'},\n",
              " {'created_utc': 1591406618, 'id': 'gxhjat', 'prefix': 't4_'},\n",
              " {'created_utc': 1591408148, 'id': 'gxhxwm', 'prefix': 't4_'}]"
            ]
          },
          "metadata": {
            "tags": []
          },
          "execution_count": 5
        }
      ]
    },
    {
      "cell_type": "code",
      "metadata": {
        "id": "njUKfZRJOzK0",
        "colab_type": "code",
        "colab": {}
      },
      "source": [
        ""
      ],
      "execution_count": null,
      "outputs": []
    }
  ]
}