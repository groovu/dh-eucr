{
  "nbformat": 4,
  "nbformat_minor": 0,
  "metadata": {
    "colab": {
      "name": "DH100 UC subreddits",
      "provenance": [],
      "authorship_tag": "ABX9TyNru9UFt93hzGPLJ7XZGWaJ",
      "include_colab_link": true
    },
    "kernelspec": {
      "name": "python3",
      "display_name": "Python 3"
    }
  },
  "cells": [
    {
      "cell_type": "markdown",
      "metadata": {
        "id": "view-in-github",
        "colab_type": "text"
      },
      "source": [
        "<a href=\"https://colab.research.google.com/github/groovu/dh-eucr/blob/master/DH100_UC_subreddits.ipynb\" target=\"_parent\"><img src=\"https://colab.research.google.com/assets/colab-badge.svg\" alt=\"Open In Colab\"/></a>"
      ]
    },
    {
      "cell_type": "code",
      "metadata": {
        "id": "N8OWSQmYOnxX",
        "colab_type": "code",
        "colab": {}
      },
      "source": [
        "import requests\n",
        "import json\n",
        "\n",
        "url = \"https://api.pushshift.io/reddit/search/submission\"\n",
        "\n",
        "def crawl_page(subreddit: str, last_page = None):\n",
        "  \"\"\"Crawl a page of results from a given subreddit.\n",
        "\n",
        "  :param subreddit: The subreddit to crawl.\n",
        "  :param last_page: The last downloaded page.\n",
        "\n",
        "  :return: A page or results.\n",
        "  \"\"\"\n",
        "  params = {\"subreddit\": subreddit, \"size\": 500, \"sort\": \"desc\", \"sort_type\": \"created_utc\"}\n",
        "  if last_page is not None:\n",
        "    if len(last_page) > 0:\n",
        "      # resume from where we left at the last page\n",
        "      params[\"before\"] = last_page[-1][\"created_utc\"]\n",
        "    else:\n",
        "      # the last page was empty, we are past the last page\n",
        "      return []\n",
        "  results = requests.get(url, params)\n",
        "  if not results.ok:\n",
        "    # something wrong happened\n",
        "    raise Exception(\"Server returned status code {}\".format(results.status_code))\n",
        "  data = json.loads(results.text)\n",
        "  return data['data']"
      ],
      "execution_count": null,
      "outputs": []
    },
    {
      "cell_type": "code",
      "metadata": {
        "id": "8_I3U7VqP2Lo",
        "colab_type": "code",
        "colab": {}
      },
      "source": [
        "privatesol = crawl_page('berkeley')"
      ],
      "execution_count": null,
      "outputs": []
    },
    {
      "cell_type": "code",
      "metadata": {
        "id": "7H1JsaiCQh-H",
        "colab_type": "code",
        "colab": {
          "base_uri": "https://localhost:8080/",
          "height": 180
        },
        "outputId": "8f02aa9c-1f35-4a1d-d06a-266f4c7d553e"
      },
      "source": [
        "print(len(sol))\n",
        "print(sol[0].get(\"author\"))"
      ],
      "execution_count": null,
      "outputs": [
        {
          "output_type": "error",
          "ename": "NameError",
          "evalue": "ignored",
          "traceback": [
            "\u001b[0;31m---------------------------------------------------------------------------\u001b[0m",
            "\u001b[0;31mNameError\u001b[0m                                 Traceback (most recent call last)",
            "\u001b[0;32m<ipython-input-6-ffb1d4c6a3a2>\u001b[0m in \u001b[0;36m<module>\u001b[0;34m()\u001b[0m\n\u001b[0;32m----> 1\u001b[0;31m \u001b[0mprint\u001b[0m\u001b[0;34m(\u001b[0m\u001b[0mlen\u001b[0m\u001b[0;34m(\u001b[0m\u001b[0msol\u001b[0m\u001b[0;34m)\u001b[0m\u001b[0;34m)\u001b[0m\u001b[0;34m\u001b[0m\u001b[0;34m\u001b[0m\u001b[0m\n\u001b[0m\u001b[1;32m      2\u001b[0m \u001b[0mprint\u001b[0m\u001b[0;34m(\u001b[0m\u001b[0msol\u001b[0m\u001b[0;34m[\u001b[0m\u001b[0;36m0\u001b[0m\u001b[0;34m]\u001b[0m\u001b[0;34m.\u001b[0m\u001b[0mget\u001b[0m\u001b[0;34m(\u001b[0m\u001b[0;34m\"author\"\u001b[0m\u001b[0;34m)\u001b[0m\u001b[0;34m)\u001b[0m\u001b[0;34m\u001b[0m\u001b[0;34m\u001b[0m\u001b[0m\n",
            "\u001b[0;31mNameError\u001b[0m: name 'sol' is not defined"
          ]
        }
      ]
    },
    {
      "cell_type": "code",
      "metadata": {
        "id": "O0FfC3-KPwGe",
        "colab_type": "code",
        "colab": {
          "base_uri": "https://localhost:8080/",
          "height": 51
        },
        "outputId": "f2cebdec-2694-41c1-b3a3-aa3c2c5fe238"
      },
      "source": [
        "subcount = requests.get(\"https://api.pushshift.io/reddit/search/submission/?subreddit=berkeley&metadata=true&size=0&after=0\")\n",
        "print(subcount)\n",
        "subcountdata = json.loads(subcount.text)\n",
        "print(subcountdata['metadata'].get(\"total_results\"))\n"
      ],
      "execution_count": null,
      "outputs": [
        {
          "output_type": "stream",
          "text": [
            "<Response [200]>\n",
            "55129\n"
          ],
          "name": "stdout"
        }
      ]
    },
    {
      "cell_type": "code",
      "metadata": {
        "id": "fTPTnM47RvMN",
        "colab_type": "code",
        "colab": {}
      },
      "source": [
        "UCsubreddits = ['UCSC', 'berkeley', 'UCDavis', 'UCR', 'UCLA', 'UCI', 'ucmerced', 'UCSD', 'UCSantaBarbara']\n"
      ],
      "execution_count": null,
      "outputs": []
    },
    {
      "cell_type": "code",
      "metadata": {
        "id": "ToAmegOFTUZY",
        "colab_type": "code",
        "colab": {}
      },
      "source": [
        "def getSubmissionCount(subreddit):\n",
        "  url = 'https://api.pushshift.io/reddit/search/submission/?subreddit=' + subreddit + '&metadata=true&size=0&after=0'\n",
        "  subcount = requests.get(url)\n",
        "  return json.loads(subcount.text)['metadata'].get(\"total_results\")\n"
      ],
      "execution_count": null,
      "outputs": []
    },
    {
      "cell_type": "code",
      "metadata": {
        "id": "4BFTpvWiUHTY",
        "colab_type": "code",
        "colab": {
          "base_uri": "https://localhost:8080/",
          "height": 323
        },
        "outputId": "c2e2c81d-7d70-48f7-f9cb-0938a5db032f"
      },
      "source": [
        "\n",
        "for i in UCsubreddits:\n",
        "  print(i)\n",
        "  x = getSubmissionCount(i)\n",
        "  print(x)"
      ],
      "execution_count": null,
      "outputs": [
        {
          "output_type": "stream",
          "text": [
            "UCSC\n",
            "40257\n",
            "berkeley\n",
            "55177\n",
            "UCDavis\n",
            "31211\n",
            "UCR\n",
            "16579\n",
            "UCLA\n",
            "46865\n",
            "UCI\n",
            "45042\n",
            "ucmerced\n",
            "1149\n",
            "UCSD\n",
            "52468\n",
            "UCSantaBarbara\n",
            "39278\n"
          ],
          "name": "stdout"
        }
      ]
    },
    {
      "cell_type": "code",
      "metadata": {
        "id": "jwt2DsFhQzCC",
        "colab_type": "code",
        "colab": {}
      },
      "source": [
        "import time\n",
        "\n",
        "def crawl_subreddit(subreddit, max_submissions = 60000):\n",
        "  \"\"\"\n",
        "  Crawl submissions from a subreddit.\n",
        "\n",
        "  :param subreddit: The subreddit to crawl.\n",
        "  :param max_submissions: The maximum number of submissions to download.\n",
        "\n",
        "  :return: A list of submissions.\n",
        "  \"\"\"\n",
        "  submissions = []\n",
        "  last_page = None\n",
        "  while last_page != [] and len(submissions) < max_submissions:\n",
        "    last_page = crawl_page(subreddit, last_page)\n",
        "    submissions += last_page\n",
        "    #time.sleep(3)\n",
        "  return submissions[:max_submissions]"
      ],
      "execution_count": null,
      "outputs": []
    },
    {
      "cell_type": "code",
      "metadata": {
        "id": "_oenNPgmQ0NJ",
        "colab_type": "code",
        "colab": {
          "base_uri": "https://localhost:8080/",
          "height": 340
        },
        "outputId": "3b5b75da-affc-4564-d9cc-d722026c6b02"
      },
      "source": [
        "i = 'UCSantaBarbara'\n",
        "\n",
        "lastest_submissions = crawl_subreddit(i)\n",
        "from google.colab import files\n",
        "import pandas as pd\n",
        "\n",
        "with open(i+ '.txt', 'w') as f:\n",
        "  json.dump(lastest_submissions, f)\n",
        "with open(i + '.txt') as f2:\n",
        "  df = pd.read_json(f2)\n",
        "\n",
        "df.to_csv(i+'.csv', encoding='utf-8-sig', index=False)\n",
        "files.download(i+'.csv')"
      ],
      "execution_count": null,
      "outputs": [
        {
          "output_type": "error",
          "ename": "MessageError",
          "evalue": "ignored",
          "traceback": [
            "\u001b[0;31m---------------------------------------------------------------------------\u001b[0m",
            "\u001b[0;31mMessageError\u001b[0m                              Traceback (most recent call last)",
            "\u001b[0;32m<ipython-input-19-bb56fa465a59>\u001b[0m in \u001b[0;36m<module>\u001b[0;34m()\u001b[0m\n\u001b[1;32m     11\u001b[0m \u001b[0;34m\u001b[0m\u001b[0m\n\u001b[1;32m     12\u001b[0m \u001b[0mdf\u001b[0m\u001b[0;34m.\u001b[0m\u001b[0mto_csv\u001b[0m\u001b[0;34m(\u001b[0m\u001b[0mi\u001b[0m\u001b[0;34m+\u001b[0m\u001b[0;34m'.csv'\u001b[0m\u001b[0;34m,\u001b[0m \u001b[0mencoding\u001b[0m\u001b[0;34m=\u001b[0m\u001b[0;34m'utf-8-sig'\u001b[0m\u001b[0;34m,\u001b[0m \u001b[0mindex\u001b[0m\u001b[0;34m=\u001b[0m\u001b[0;32mFalse\u001b[0m\u001b[0;34m)\u001b[0m\u001b[0;34m\u001b[0m\u001b[0;34m\u001b[0m\u001b[0m\n\u001b[0;32m---> 13\u001b[0;31m \u001b[0mfiles\u001b[0m\u001b[0;34m.\u001b[0m\u001b[0mdownload\u001b[0m\u001b[0;34m(\u001b[0m\u001b[0mi\u001b[0m\u001b[0;34m+\u001b[0m\u001b[0;34m'.csv'\u001b[0m\u001b[0;34m)\u001b[0m\u001b[0;34m\u001b[0m\u001b[0;34m\u001b[0m\u001b[0m\n\u001b[0m",
            "\u001b[0;32m/usr/local/lib/python3.6/dist-packages/google/colab/files.py\u001b[0m in \u001b[0;36mdownload\u001b[0;34m(filename)\u001b[0m\n\u001b[1;32m    185\u001b[0m       \u001b[0;34m'port'\u001b[0m\u001b[0;34m:\u001b[0m \u001b[0mport\u001b[0m\u001b[0;34m,\u001b[0m\u001b[0;34m\u001b[0m\u001b[0;34m\u001b[0m\u001b[0m\n\u001b[1;32m    186\u001b[0m       \u001b[0;34m'path'\u001b[0m\u001b[0;34m:\u001b[0m \u001b[0m_os\u001b[0m\u001b[0;34m.\u001b[0m\u001b[0mpath\u001b[0m\u001b[0;34m.\u001b[0m\u001b[0mabspath\u001b[0m\u001b[0;34m(\u001b[0m\u001b[0mfilename\u001b[0m\u001b[0;34m)\u001b[0m\u001b[0;34m,\u001b[0m\u001b[0;34m\u001b[0m\u001b[0;34m\u001b[0m\u001b[0m\n\u001b[0;32m--> 187\u001b[0;31m       \u001b[0;34m'name'\u001b[0m\u001b[0;34m:\u001b[0m \u001b[0m_os\u001b[0m\u001b[0;34m.\u001b[0m\u001b[0mpath\u001b[0m\u001b[0;34m.\u001b[0m\u001b[0mbasename\u001b[0m\u001b[0;34m(\u001b[0m\u001b[0mfilename\u001b[0m\u001b[0;34m)\u001b[0m\u001b[0;34m,\u001b[0m\u001b[0;34m\u001b[0m\u001b[0;34m\u001b[0m\u001b[0m\n\u001b[0m\u001b[1;32m    188\u001b[0m   })\n\u001b[1;32m    189\u001b[0m \u001b[0;34m\u001b[0m\u001b[0m\n",
            "\u001b[0;32m/usr/local/lib/python3.6/dist-packages/google/colab/output/_js.py\u001b[0m in \u001b[0;36meval_js\u001b[0;34m(script, ignore_result)\u001b[0m\n\u001b[1;32m     37\u001b[0m   \u001b[0;32mif\u001b[0m \u001b[0mignore_result\u001b[0m\u001b[0;34m:\u001b[0m\u001b[0;34m\u001b[0m\u001b[0;34m\u001b[0m\u001b[0m\n\u001b[1;32m     38\u001b[0m     \u001b[0;32mreturn\u001b[0m\u001b[0;34m\u001b[0m\u001b[0;34m\u001b[0m\u001b[0m\n\u001b[0;32m---> 39\u001b[0;31m   \u001b[0;32mreturn\u001b[0m \u001b[0m_message\u001b[0m\u001b[0;34m.\u001b[0m\u001b[0mread_reply_from_input\u001b[0m\u001b[0;34m(\u001b[0m\u001b[0mrequest_id\u001b[0m\u001b[0;34m)\u001b[0m\u001b[0;34m\u001b[0m\u001b[0;34m\u001b[0m\u001b[0m\n\u001b[0m\u001b[1;32m     40\u001b[0m \u001b[0;34m\u001b[0m\u001b[0m\n\u001b[1;32m     41\u001b[0m \u001b[0;34m\u001b[0m\u001b[0m\n",
            "\u001b[0;32m/usr/local/lib/python3.6/dist-packages/google/colab/_message.py\u001b[0m in \u001b[0;36mread_reply_from_input\u001b[0;34m(message_id, timeout_sec)\u001b[0m\n\u001b[1;32m    104\u001b[0m         reply.get('colab_msg_id') == message_id):\n\u001b[1;32m    105\u001b[0m       \u001b[0;32mif\u001b[0m \u001b[0;34m'error'\u001b[0m \u001b[0;32min\u001b[0m \u001b[0mreply\u001b[0m\u001b[0;34m:\u001b[0m\u001b[0;34m\u001b[0m\u001b[0;34m\u001b[0m\u001b[0m\n\u001b[0;32m--> 106\u001b[0;31m         \u001b[0;32mraise\u001b[0m \u001b[0mMessageError\u001b[0m\u001b[0;34m(\u001b[0m\u001b[0mreply\u001b[0m\u001b[0;34m[\u001b[0m\u001b[0;34m'error'\u001b[0m\u001b[0;34m]\u001b[0m\u001b[0;34m)\u001b[0m\u001b[0;34m\u001b[0m\u001b[0;34m\u001b[0m\u001b[0m\n\u001b[0m\u001b[1;32m    107\u001b[0m       \u001b[0;32mreturn\u001b[0m \u001b[0mreply\u001b[0m\u001b[0;34m.\u001b[0m\u001b[0mget\u001b[0m\u001b[0;34m(\u001b[0m\u001b[0;34m'data'\u001b[0m\u001b[0;34m,\u001b[0m \u001b[0;32mNone\u001b[0m\u001b[0;34m)\u001b[0m\u001b[0;34m\u001b[0m\u001b[0;34m\u001b[0m\u001b[0m\n\u001b[1;32m    108\u001b[0m \u001b[0;34m\u001b[0m\u001b[0m\n",
            "\u001b[0;31mMessageError\u001b[0m: TypeError: Failed to fetch"
          ]
        }
      ]
    },
    {
      "cell_type": "code",
      "metadata": {
        "id": "0mp3vplmYZaK",
        "colab_type": "code",
        "colab": {}
      },
      "source": [
        "from google.colab import files\n",
        "import pandas as pd\n",
        "\n",
        "with open(i+ '.txt', 'w') as f:\n",
        "  json.dump(lastest_submissions, f)\n",
        "with open(i + '.txt') as f2:\n",
        "  df = pd.read_json(f2)\n",
        "\n",
        "df.to_csv(i+'.csv', encoding='utf-8-sig', index=False)\n",
        "files.download(i+'.csv')\n"
      ],
      "execution_count": null,
      "outputs": []
    },
    {
      "cell_type": "code",
      "metadata": {
        "id": "c9Uw6qoxjqlo",
        "colab_type": "code",
        "colab": {
          "base_uri": "https://localhost:8080/",
          "height": 357
        },
        "outputId": "4f4c9ed8-675b-49f6-bfd5-1eb1e33f4117"
      },
      "source": [
        "from google.colab import files\n",
        "import pandas as pd\n",
        "\n",
        "UCsubreddits2 = ['berkeley', 'UCDavis', 'UCR', 'UCLA', 'UCI', 'ucmerced', 'UCSD', 'UCSantaBarbara']\n",
        "\n",
        "for i in UCsubreddits2:\n",
        "  print(i)\n",
        "  subs = crawl_subreddit(i, getSubmissionCount(i))\n",
        "  with open(i + '.txt', 'w') as f:\n",
        "    json.dump(subs, f)\n",
        "  with open(i + '.txt') as f2:\n",
        "    df = pd.read_json(f2)\n",
        "  df.to_csv(i + '.csv', encoding='utf-8-sig', index=False)\n",
        "  files.download(i + '.csv')"
      ],
      "execution_count": null,
      "outputs": [
        {
          "output_type": "stream",
          "text": [
            "berkeley\n"
          ],
          "name": "stdout"
        },
        {
          "output_type": "error",
          "ename": "MessageError",
          "evalue": "ignored",
          "traceback": [
            "\u001b[0;31m---------------------------------------------------------------------------\u001b[0m",
            "\u001b[0;31mMessageError\u001b[0m                              Traceback (most recent call last)",
            "\u001b[0;32m<ipython-input-108-75147fe6194e>\u001b[0m in \u001b[0;36m<module>\u001b[0;34m()\u001b[0m\n\u001b[1;32m     12\u001b[0m     \u001b[0mdf\u001b[0m \u001b[0;34m=\u001b[0m \u001b[0mpd\u001b[0m\u001b[0;34m.\u001b[0m\u001b[0mread_json\u001b[0m\u001b[0;34m(\u001b[0m\u001b[0mf2\u001b[0m\u001b[0;34m)\u001b[0m\u001b[0;34m\u001b[0m\u001b[0;34m\u001b[0m\u001b[0m\n\u001b[1;32m     13\u001b[0m   \u001b[0mdf\u001b[0m\u001b[0;34m.\u001b[0m\u001b[0mto_csv\u001b[0m\u001b[0;34m(\u001b[0m\u001b[0mi\u001b[0m \u001b[0;34m+\u001b[0m \u001b[0;34m'.csv'\u001b[0m\u001b[0;34m,\u001b[0m \u001b[0mencoding\u001b[0m\u001b[0;34m=\u001b[0m\u001b[0;34m'utf-8-sig'\u001b[0m\u001b[0;34m,\u001b[0m \u001b[0mindex\u001b[0m\u001b[0;34m=\u001b[0m\u001b[0;32mFalse\u001b[0m\u001b[0;34m)\u001b[0m\u001b[0;34m\u001b[0m\u001b[0;34m\u001b[0m\u001b[0m\n\u001b[0;32m---> 14\u001b[0;31m   \u001b[0mfiles\u001b[0m\u001b[0;34m.\u001b[0m\u001b[0mdownload\u001b[0m\u001b[0;34m(\u001b[0m\u001b[0mi\u001b[0m \u001b[0;34m+\u001b[0m \u001b[0;34m'.csv'\u001b[0m\u001b[0;34m)\u001b[0m\u001b[0;34m\u001b[0m\u001b[0;34m\u001b[0m\u001b[0m\n\u001b[0m",
            "\u001b[0;32m/usr/local/lib/python3.6/dist-packages/google/colab/files.py\u001b[0m in \u001b[0;36mdownload\u001b[0;34m(filename)\u001b[0m\n\u001b[1;32m    185\u001b[0m       \u001b[0;34m'port'\u001b[0m\u001b[0;34m:\u001b[0m \u001b[0mport\u001b[0m\u001b[0;34m,\u001b[0m\u001b[0;34m\u001b[0m\u001b[0;34m\u001b[0m\u001b[0m\n\u001b[1;32m    186\u001b[0m       \u001b[0;34m'path'\u001b[0m\u001b[0;34m:\u001b[0m \u001b[0m_os\u001b[0m\u001b[0;34m.\u001b[0m\u001b[0mpath\u001b[0m\u001b[0;34m.\u001b[0m\u001b[0mabspath\u001b[0m\u001b[0;34m(\u001b[0m\u001b[0mfilename\u001b[0m\u001b[0;34m)\u001b[0m\u001b[0;34m,\u001b[0m\u001b[0;34m\u001b[0m\u001b[0;34m\u001b[0m\u001b[0m\n\u001b[0;32m--> 187\u001b[0;31m       \u001b[0;34m'name'\u001b[0m\u001b[0;34m:\u001b[0m \u001b[0m_os\u001b[0m\u001b[0;34m.\u001b[0m\u001b[0mpath\u001b[0m\u001b[0;34m.\u001b[0m\u001b[0mbasename\u001b[0m\u001b[0;34m(\u001b[0m\u001b[0mfilename\u001b[0m\u001b[0;34m)\u001b[0m\u001b[0;34m,\u001b[0m\u001b[0;34m\u001b[0m\u001b[0;34m\u001b[0m\u001b[0m\n\u001b[0m\u001b[1;32m    188\u001b[0m   })\n\u001b[1;32m    189\u001b[0m \u001b[0;34m\u001b[0m\u001b[0m\n",
            "\u001b[0;32m/usr/local/lib/python3.6/dist-packages/google/colab/output/_js.py\u001b[0m in \u001b[0;36meval_js\u001b[0;34m(script, ignore_result)\u001b[0m\n\u001b[1;32m     37\u001b[0m   \u001b[0;32mif\u001b[0m \u001b[0mignore_result\u001b[0m\u001b[0;34m:\u001b[0m\u001b[0;34m\u001b[0m\u001b[0;34m\u001b[0m\u001b[0m\n\u001b[1;32m     38\u001b[0m     \u001b[0;32mreturn\u001b[0m\u001b[0;34m\u001b[0m\u001b[0;34m\u001b[0m\u001b[0m\n\u001b[0;32m---> 39\u001b[0;31m   \u001b[0;32mreturn\u001b[0m \u001b[0m_message\u001b[0m\u001b[0;34m.\u001b[0m\u001b[0mread_reply_from_input\u001b[0m\u001b[0;34m(\u001b[0m\u001b[0mrequest_id\u001b[0m\u001b[0;34m)\u001b[0m\u001b[0;34m\u001b[0m\u001b[0;34m\u001b[0m\u001b[0m\n\u001b[0m\u001b[1;32m     40\u001b[0m \u001b[0;34m\u001b[0m\u001b[0m\n\u001b[1;32m     41\u001b[0m \u001b[0;34m\u001b[0m\u001b[0m\n",
            "\u001b[0;32m/usr/local/lib/python3.6/dist-packages/google/colab/_message.py\u001b[0m in \u001b[0;36mread_reply_from_input\u001b[0;34m(message_id, timeout_sec)\u001b[0m\n\u001b[1;32m    104\u001b[0m         reply.get('colab_msg_id') == message_id):\n\u001b[1;32m    105\u001b[0m       \u001b[0;32mif\u001b[0m \u001b[0;34m'error'\u001b[0m \u001b[0;32min\u001b[0m \u001b[0mreply\u001b[0m\u001b[0;34m:\u001b[0m\u001b[0;34m\u001b[0m\u001b[0;34m\u001b[0m\u001b[0m\n\u001b[0;32m--> 106\u001b[0;31m         \u001b[0;32mraise\u001b[0m \u001b[0mMessageError\u001b[0m\u001b[0;34m(\u001b[0m\u001b[0mreply\u001b[0m\u001b[0;34m[\u001b[0m\u001b[0;34m'error'\u001b[0m\u001b[0;34m]\u001b[0m\u001b[0;34m)\u001b[0m\u001b[0;34m\u001b[0m\u001b[0;34m\u001b[0m\u001b[0m\n\u001b[0m\u001b[1;32m    107\u001b[0m       \u001b[0;32mreturn\u001b[0m \u001b[0mreply\u001b[0m\u001b[0;34m.\u001b[0m\u001b[0mget\u001b[0m\u001b[0;34m(\u001b[0m\u001b[0;34m'data'\u001b[0m\u001b[0;34m,\u001b[0m \u001b[0;32mNone\u001b[0m\u001b[0;34m)\u001b[0m\u001b[0;34m\u001b[0m\u001b[0;34m\u001b[0m\u001b[0m\n\u001b[1;32m    108\u001b[0m \u001b[0;34m\u001b[0m\u001b[0m\n",
            "\u001b[0;31mMessageError\u001b[0m: TypeError: Failed to fetch"
          ]
        }
      ]
    },
    {
      "cell_type": "code",
      "metadata": {
        "id": "gbS_xuzhQ3pw",
        "colab_type": "code",
        "colab": {
          "base_uri": "https://localhost:8080/",
          "height": 139
        },
        "outputId": "8499948f-9419-4fcc-b1e1-4791d68b1475"
      },
      "source": [
        "print(len(lastest_submissions))\n",
        "print(type(lastest_submissions))\n",
        "\n",
        "print(type(lastest_submissions[1]))\n",
        "print(lastest_submissions[1])\n",
        "print(lastest_submissions[1].get('all_awardings'))\n",
        "print(lastest_submissions[1].keys())"
      ],
      "execution_count": null,
      "outputs": [
        {
          "output_type": "stream",
          "text": [
            "10\n",
            "<class 'list'>\n",
            "<class 'dict'>\n",
            "{'all_awardings': [], 'allow_live_comments': False, 'author': '[deleted]', 'author_flair_background_color': '', 'author_flair_css_class': None, 'author_flair_text': None, 'author_flair_text_color': 'dark', 'awarders': [], 'can_mod_post': False, 'contest_mode': False, 'created_utc': 1592327676, 'domain': 'i.redd.it', 'full_link': 'https://www.reddit.com/r/berkeley/comments/ha87gr/schedule_advice_for_a_transfer_student_gba_was/', 'gildings': {}, 'id': 'ha87gr', 'is_crosspostable': False, 'is_meta': False, 'is_original_content': False, 'is_reddit_media_domain': True, 'is_robot_indexable': False, 'is_self': False, 'is_video': False, 'link_flair_background_color': '', 'link_flair_richtext': [], 'link_flair_text_color': 'dark', 'link_flair_type': 'text', 'locked': False, 'media_only': False, 'no_follow': True, 'num_comments': 0, 'num_crossposts': 0, 'over_18': False, 'parent_whitelist_status': 'all_ads', 'permalink': '/r/berkeley/comments/ha87gr/schedule_advice_for_a_transfer_student_gba_was/', 'pinned': False, 'pwls': 6, 'removed_by_category': 'deleted', 'retrieved_on': 1592331307, 'score': 1, 'selftext': '[deleted]', 'send_replies': True, 'spoiler': False, 'stickied': False, 'subreddit': 'berkeley', 'subreddit_id': 't5_2qh9w', 'subreddit_subscribers': 39516, 'subreddit_type': 'public', 'thumbnail': 'default', 'thumbnail_height': 92, 'thumbnail_width': 140, 'title': 'Schedule advice for a transfer student? GBA was not helpful at all...', 'total_awards_received': 0, 'treatment_tags': [], 'upvote_ratio': 1.0, 'url': 'https://i.redd.it/s63b68u62b551.jpg', 'whitelist_status': 'all_ads', 'wls': 6}\n",
            "[]\n",
            "dict_keys(['all_awardings', 'allow_live_comments', 'author', 'author_flair_background_color', 'author_flair_css_class', 'author_flair_text', 'author_flair_text_color', 'awarders', 'can_mod_post', 'contest_mode', 'created_utc', 'domain', 'full_link', 'gildings', 'id', 'is_crosspostable', 'is_meta', 'is_original_content', 'is_reddit_media_domain', 'is_robot_indexable', 'is_self', 'is_video', 'link_flair_background_color', 'link_flair_richtext', 'link_flair_text_color', 'link_flair_type', 'locked', 'media_only', 'no_follow', 'num_comments', 'num_crossposts', 'over_18', 'parent_whitelist_status', 'permalink', 'pinned', 'pwls', 'removed_by_category', 'retrieved_on', 'score', 'selftext', 'send_replies', 'spoiler', 'stickied', 'subreddit', 'subreddit_id', 'subreddit_subscribers', 'subreddit_type', 'thumbnail', 'thumbnail_height', 'thumbnail_width', 'title', 'total_awards_received', 'treatment_tags', 'upvote_ratio', 'url', 'whitelist_status', 'wls'])\n"
          ],
          "name": "stdout"
        }
      ]
    },
    {
      "cell_type": "code",
      "metadata": {
        "id": "jHE6YULnYxKt",
        "colab_type": "code",
        "colab": {}
      },
      "source": [
        "def cleanup(list):\n",
        "    cleaned = []\n",
        "    i = 0;\n",
        "    for d in list:\n",
        "      cleaned += [[d.get('created_utc'), d.get('title'), d.get('selftext')]]\n",
        "      print(d)\n",
        "    \n",
        "    return cleaned\n",
        "\n",
        "       \n",
        "    "
      ],
      "execution_count": null,
      "outputs": []
    },
    {
      "cell_type": "code",
      "metadata": {
        "id": "Tj3SZWBZb8qd",
        "colab_type": "code",
        "colab": {}
      },
      "source": [
        "test = lastest_submissions[:10]"
      ],
      "execution_count": null,
      "outputs": []
    },
    {
      "cell_type": "code",
      "metadata": {
        "id": "JWbQe0GvcKRb",
        "colab_type": "code",
        "colab": {
          "base_uri": "https://localhost:8080/",
          "height": 275
        },
        "outputId": "28b288ed-6579-4098-9131-2c2b3f0df100"
      },
      "source": [
        "print(test)\n",
        "print(test[0])\n",
        "print(len(test))\n",
        "clean = cleanup(test)\n",
        "print(clean[0])"
      ],
      "execution_count": null,
      "outputs": [
        {
          "output_type": "stream",
          "text": [
            "[{'all_awardings': [], 'allow_live_comments': False, 'author': 'sadandanonymous11111', 'author_flair_css_class': None, 'author_flair_richtext': [], 'author_flair_text': None, 'author_flair_type': 'text', 'author_fullname': 't2_3ot1damp', 'author_patreon_flair': False, 'author_premium': False, 'awarders': [], 'can_mod_post': False, 'contest_mode': False, 'created_utc': 1592327848, 'domain': 'i.redd.it', 'full_link': 'https://www.reddit.com/r/berkeley/comments/ha89h0/schedule_advice_for_a_transfer_student_gba_was/', 'gildings': {}, 'id': 'ha89h0', 'is_crosspostable': True, 'is_meta': False, 'is_original_content': False, 'is_reddit_media_domain': True, 'is_robot_indexable': True, 'is_self': False, 'is_video': False, 'link_flair_background_color': '', 'link_flair_richtext': [], 'link_flair_text_color': 'dark', 'link_flair_type': 'text', 'locked': False, 'media_only': False, 'no_follow': True, 'num_comments': 6, 'num_crossposts': 0, 'over_18': False, 'parent_whitelist_status': 'all_ads', 'permalink': '/r/berkeley/comments/ha89h0/schedule_advice_for_a_transfer_student_gba_was/', 'pinned': False, 'post_hint': 'image', 'preview': {'enabled': True, 'images': [{'id': 'A6vudtu-SD8iuv0DiWh9pVteXifbhl0JHuE6tEYefu0', 'resolutions': [{'height': 70, 'url': 'https://preview.redd.it/yilhwccp2b551.jpg?width=108&amp;crop=smart&amp;auto=webp&amp;s=060dfacc0e62a3444b2e9686055be37e5774eec3', 'width': 108}, {'height': 141, 'url': 'https://preview.redd.it/yilhwccp2b551.jpg?width=216&amp;crop=smart&amp;auto=webp&amp;s=7538d6316eb95edc877e4975d155006bc5d680eb', 'width': 216}, {'height': 210, 'url': 'https://preview.redd.it/yilhwccp2b551.jpg?width=320&amp;crop=smart&amp;auto=webp&amp;s=07d1b2e3f30b033c6fba531202e16938aaefc31d', 'width': 320}, {'height': 420, 'url': 'https://preview.redd.it/yilhwccp2b551.jpg?width=640&amp;crop=smart&amp;auto=webp&amp;s=2381f1884889bc1129d0ebe609ccd07498d6dc03', 'width': 640}, {'height': 631, 'url': 'https://preview.redd.it/yilhwccp2b551.jpg?width=960&amp;crop=smart&amp;auto=webp&amp;s=e4a46a9fd532760e5460877754368d3ad2c498eb', 'width': 960}, {'height': 709, 'url': 'https://preview.redd.it/yilhwccp2b551.jpg?width=1080&amp;crop=smart&amp;auto=webp&amp;s=c99d39cb968c5b73e3457eeef19b6edc40a0c11f', 'width': 1080}], 'source': {'height': 1262, 'url': 'https://preview.redd.it/yilhwccp2b551.jpg?auto=webp&amp;s=54bafb8a040715363e92f923cd0885f550d69e86', 'width': 1920}, 'variants': {}}]}, 'pwls': 6, 'retrieved_on': 1592331458, 'score': 1, 'selftext': '', 'send_replies': True, 'spoiler': False, 'stickied': False, 'subreddit': 'berkeley', 'subreddit_id': 't5_2qh9w', 'subreddit_subscribers': 39516, 'subreddit_type': 'public', 'thumbnail': 'https://b.thumbs.redditmedia.com/hSQMOWb1wSfk4ZAkFUtktP3CKeb02U38zqVuUgTzXaU.jpg', 'thumbnail_height': 92, 'thumbnail_width': 140, 'title': 'Schedule advice for a transfer student? GBA was not helpful at all...', 'total_awards_received': 0, 'treatment_tags': [], 'upvote_ratio': 1.0, 'url': 'https://i.redd.it/yilhwccp2b551.jpg', 'whitelist_status': 'all_ads', 'wls': 6}, {'all_awardings': [], 'allow_live_comments': False, 'author': '[deleted]', 'author_flair_background_color': '', 'author_flair_css_class': None, 'author_flair_text': None, 'author_flair_text_color': 'dark', 'awarders': [], 'can_mod_post': False, 'contest_mode': False, 'created_utc': 1592327676, 'domain': 'i.redd.it', 'full_link': 'https://www.reddit.com/r/berkeley/comments/ha87gr/schedule_advice_for_a_transfer_student_gba_was/', 'gildings': {}, 'id': 'ha87gr', 'is_crosspostable': False, 'is_meta': False, 'is_original_content': False, 'is_reddit_media_domain': True, 'is_robot_indexable': False, 'is_self': False, 'is_video': False, 'link_flair_background_color': '', 'link_flair_richtext': [], 'link_flair_text_color': 'dark', 'link_flair_type': 'text', 'locked': False, 'media_only': False, 'no_follow': True, 'num_comments': 0, 'num_crossposts': 0, 'over_18': False, 'parent_whitelist_status': 'all_ads', 'permalink': '/r/berkeley/comments/ha87gr/schedule_advice_for_a_transfer_student_gba_was/', 'pinned': False, 'pwls': 6, 'removed_by_category': 'deleted', 'retrieved_on': 1592331307, 'score': 1, 'selftext': '[deleted]', 'send_replies': True, 'spoiler': False, 'stickied': False, 'subreddit': 'berkeley', 'subreddit_id': 't5_2qh9w', 'subreddit_subscribers': 39516, 'subreddit_type': 'public', 'thumbnail': 'default', 'thumbnail_height': 92, 'thumbnail_width': 140, 'title': 'Schedule advice for a transfer student? GBA was not helpful at all...', 'total_awards_received': 0, 'treatment_tags': [], 'upvote_ratio': 1.0, 'url': 'https://i.redd.it/s63b68u62b551.jpg', 'whitelist_status': 'all_ads', 'wls': 6}, {'all_awardings': [], 'allow_live_comments': False, 'author': 'sylfrost', 'author_flair_css_class': None, 'author_flair_richtext': [], 'author_flair_text': None, 'author_flair_type': 'text', 'author_fullname': 't2_13t93r', 'author_patreon_flair': False, 'author_premium': False, 'awarders': [], 'can_mod_post': False, 'contest_mode': False, 'created_utc': 1592327337, 'domain': 'self.berkeley', 'full_link': 'https://www.reddit.com/r/berkeley/comments/ha83im/chem_1b_self_study/', 'gildings': {}, 'id': 'ha83im', 'is_crosspostable': True, 'is_meta': False, 'is_original_content': False, 'is_reddit_media_domain': False, 'is_robot_indexable': True, 'is_self': True, 'is_video': False, 'link_flair_background_color': '', 'link_flair_richtext': [], 'link_flair_text_color': 'dark', 'link_flair_type': 'text', 'locked': False, 'media_only': False, 'no_follow': True, 'num_comments': 0, 'num_crossposts': 0, 'over_18': False, 'parent_whitelist_status': 'all_ads', 'permalink': '/r/berkeley/comments/ha83im/chem_1b_self_study/', 'pinned': False, 'pwls': 6, 'retrieved_on': 1592331016, 'score': 1, 'selftext': 'Does anyone know where I can find materials to self study for chem 1b over the summer? Originally i was supposed to take chem 3a so I didnt take chem 1b, but since I changed my concentration I need to take chem 12a this fall.\\n\\nAny other tips would be appreciated as well :)', 'send_replies': True, 'spoiler': False, 'stickied': False, 'subreddit': 'berkeley', 'subreddit_id': 't5_2qh9w', 'subreddit_subscribers': 39515, 'subreddit_type': 'public', 'thumbnail': 'self', 'title': 'CHEM 1B Self study', 'total_awards_received': 0, 'treatment_tags': [], 'upvote_ratio': 1.0, 'url': 'https://www.reddit.com/r/berkeley/comments/ha83im/chem_1b_self_study/', 'whitelist_status': 'all_ads', 'wls': 6}, {'all_awardings': [], 'allow_live_comments': False, 'author': 'assboxx1', 'author_flair_css_class': None, 'author_flair_richtext': [], 'author_flair_text': None, 'author_flair_type': 'text', 'author_fullname': 't2_6xyewg04', 'author_patreon_flair': False, 'author_premium': False, 'awarders': [], 'can_mod_post': False, 'contest_mode': False, 'created_utc': 1592326991, 'domain': 'drive.google.com', 'full_link': 'https://www.reddit.com/r/berkeley/comments/ha7z6e/the_2020_health_emergency_shutdown_was_planned_by/', 'gildings': {}, 'id': 'ha7z6e', 'is_crosspostable': False, 'is_meta': False, 'is_original_content': False, 'is_reddit_media_domain': False, 'is_robot_indexable': False, 'is_self': False, 'is_video': False, 'link_flair_background_color': '', 'link_flair_richtext': [], 'link_flair_text_color': 'dark', 'link_flair_type': 'text', 'locked': False, 'media_only': False, 'no_follow': True, 'num_comments': 0, 'num_crossposts': 0, 'over_18': False, 'parent_whitelist_status': 'all_ads', 'permalink': '/r/berkeley/comments/ha7z6e/the_2020_health_emergency_shutdown_was_planned_by/', 'pinned': False, 'post_hint': 'link', 'preview': {'enabled': False, 'images': [{'id': 'Yczcnv6xeV1RKtrEbTxyLhISGHziB-m6Jd_ya-s2yJ8', 'resolutions': [{'height': 56, 'url': 'https://external-preview.redd.it/PNaV9PYKtaSvLj1vxUWhFr5YRx5xrCl6TcEwTCOEYkQ.jpg?width=108&amp;crop=smart&amp;auto=webp&amp;s=509ca04683bd8da04e72f9805548bb8dc8bd955f', 'width': 108}, {'height': 113, 'url': 'https://external-preview.redd.it/PNaV9PYKtaSvLj1vxUWhFr5YRx5xrCl6TcEwTCOEYkQ.jpg?width=216&amp;crop=smart&amp;auto=webp&amp;s=24633a7dc6cdff24787740eaacc5bde0d421d32f', 'width': 216}, {'height': 168, 'url': 'https://external-preview.redd.it/PNaV9PYKtaSvLj1vxUWhFr5YRx5xrCl6TcEwTCOEYkQ.jpg?width=320&amp;crop=smart&amp;auto=webp&amp;s=e8488153680343ffc70a3778f421faa072ec8814', 'width': 320}, {'height': 336, 'url': 'https://external-preview.redd.it/PNaV9PYKtaSvLj1vxUWhFr5YRx5xrCl6TcEwTCOEYkQ.jpg?width=640&amp;crop=smart&amp;auto=webp&amp;s=7ad6454e490ef016691fe05b695e69dec42897ee', 'width': 640}, {'height': 504, 'url': 'https://external-preview.redd.it/PNaV9PYKtaSvLj1vxUWhFr5YRx5xrCl6TcEwTCOEYkQ.jpg?width=960&amp;crop=smart&amp;auto=webp&amp;s=c50db040f731aee284fe77c58eb3f1258dac97d6', 'width': 960}, {'height': 567, 'url': 'https://external-preview.redd.it/PNaV9PYKtaSvLj1vxUWhFr5YRx5xrCl6TcEwTCOEYkQ.jpg?width=1080&amp;crop=smart&amp;auto=webp&amp;s=b3470bacda07802d046c2e36998bd0b2f5e74d61', 'width': 1080}], 'source': {'height': 630, 'url': 'https://external-preview.redd.it/PNaV9PYKtaSvLj1vxUWhFr5YRx5xrCl6TcEwTCOEYkQ.jpg?auto=webp&amp;s=633a7f4308baad484dd947280cb972ea24ec402c', 'width': 1200}, 'variants': {}}]}, 'pwls': 6, 'removed_by_category': 'reddit', 'retrieved_on': 1592330727, 'score': 1, 'selftext': '', 'send_replies': True, 'spoiler': False, 'stickied': False, 'subreddit': 'berkeley', 'subreddit_id': 't5_2qh9w', 'subreddit_subscribers': 39514, 'subreddit_type': 'public', 'thumbnail': 'https://a.thumbs.redditmedia.com/Apdy7tilM3RA3e_PPXdymzxEZda-2CycTrT6cxg9bU4.jpg', 'thumbnail_height': 73, 'thumbnail_width': 140, 'title': 'The 2020 \"Health Emergency Shutdown\" was planned by the Trump administration back in August 2019. Listen to the conspirators discuss everything starting with updates on page 182. Ditch the mask because the shutdown, like the staged impeachments, was just more obstruction to retain power.', 'total_awards_received': 0, 'treatment_tags': [], 'upvote_ratio': 1.0, 'url': 'https://drive.google.com/file/d/1WmtrRXOWglJB9dvVxpXHlxE_miaJQKhV/view?usp=sharing', 'whitelist_status': 'all_ads', 'wls': 6}, {'all_awardings': [], 'allow_live_comments': False, 'author': 'hokuspokus2', 'author_flair_css_class': None, 'author_flair_richtext': [], 'author_flair_text': None, 'author_flair_type': 'text', 'author_fullname': 't2_182mgk4', 'author_patreon_flair': False, 'author_premium': False, 'awarders': [], 'can_mod_post': False, 'contest_mode': False, 'created_utc': 1592325458, 'domain': 'i.redd.it', 'full_link': 'https://www.reddit.com/r/berkeley/comments/ha7hfw/how_does_my_freshman_schedule_look_doable/', 'gildings': {}, 'id': 'ha7hfw', 'is_crosspostable': True, 'is_meta': False, 'is_original_content': False, 'is_reddit_media_domain': True, 'is_robot_indexable': True, 'is_self': False, 'is_video': False, 'link_flair_background_color': '', 'link_flair_richtext': [], 'link_flair_text_color': 'dark', 'link_flair_type': 'text', 'locked': False, 'media_only': False, 'no_follow': True, 'num_comments': 3, 'num_crossposts': 0, 'over_18': False, 'parent_whitelist_status': 'all_ads', 'permalink': '/r/berkeley/comments/ha7hfw/how_does_my_freshman_schedule_look_doable/', 'pinned': False, 'post_hint': 'image', 'preview': {'enabled': True, 'images': [{'id': '5EvCAkXY56eSrL4LP1MXBVOWjbZuRItXnCPL_KK-EPo', 'resolutions': [{'height': 86, 'url': 'https://preview.redd.it/ura92jjjva551.png?width=108&amp;crop=smart&amp;auto=webp&amp;s=c58c5e711f84834c539437214a09f4c43495f6ab', 'width': 108}, {'height': 173, 'url': 'https://preview.redd.it/ura92jjjva551.png?width=216&amp;crop=smart&amp;auto=webp&amp;s=deb524502e6b0cc56e9f1f4b6f5c2fd8f287b9c1', 'width': 216}, {'height': 256, 'url': 'https://preview.redd.it/ura92jjjva551.png?width=320&amp;crop=smart&amp;auto=webp&amp;s=a97e030c9e0c60a08537d2be346016333520dfb5', 'width': 320}, {'height': 513, 'url': 'https://preview.redd.it/ura92jjjva551.png?width=640&amp;crop=smart&amp;auto=webp&amp;s=d3b1d3c03671341f88839caf3324851a68c88ee2', 'width': 640}], 'source': {'height': 605, 'url': 'https://preview.redd.it/ura92jjjva551.png?auto=webp&amp;s=f32279d47c57166b07fb26db56380ad1426f49a0', 'width': 754}, 'variants': {}}]}, 'pwls': 6, 'retrieved_on': 1592329483, 'score': 2, 'selftext': '', 'send_replies': True, 'spoiler': False, 'stickied': False, 'subreddit': 'berkeley', 'subreddit_id': 't5_2qh9w', 'subreddit_subscribers': 39512, 'subreddit_type': 'public', 'thumbnail': 'https://b.thumbs.redditmedia.com/dG9qzZkMKQzb9wkVr4sHpfrJJC13H3PvKLKg9FdNDas.jpg', 'thumbnail_height': 112, 'thumbnail_width': 140, 'title': 'How does my freshman schedule look? doable?', 'total_awards_received': 0, 'treatment_tags': [], 'upvote_ratio': 1.0, 'url': 'https://i.redd.it/ura92jjjva551.png', 'whitelist_status': 'all_ads', 'wls': 6}, {'all_awardings': [], 'allow_live_comments': False, 'author': 'tacil', 'author_flair_css_class': None, 'author_flair_richtext': [], 'author_flair_text': None, 'author_flair_type': 'text', 'author_fullname': 't2_1eytc2zq', 'author_patreon_flair': False, 'author_premium': True, 'awarders': [], 'can_mod_post': False, 'contest_mode': False, 'created_utc': 1592323032, 'domain': 'self.berkeley', 'full_link': 'https://www.reddit.com/r/berkeley/comments/ha6pce/berkeley_extension/', 'gildings': {}, 'id': 'ha6pce', 'is_crosspostable': True, 'is_meta': False, 'is_original_content': False, 'is_reddit_media_domain': False, 'is_robot_indexable': True, 'is_self': True, 'is_video': False, 'link_flair_background_color': '', 'link_flair_richtext': [], 'link_flair_text_color': 'dark', 'link_flair_type': 'text', 'locked': False, 'media_only': False, 'no_follow': True, 'num_comments': 0, 'num_crossposts': 0, 'over_18': False, 'parent_whitelist_status': 'all_ads', 'permalink': '/r/berkeley/comments/ha6pce/berkeley_extension/', 'pinned': False, 'pwls': 6, 'retrieved_on': 1592327420, 'score': 2, 'selftext': 'Hi all, I just applied for the Digital Marketing Immersive Programs and I was just curious if I get in, will I be able to use campus facilities like a regular student? Or are UC Berkeley and Berkeley Extension just two completely different thing?\\n\\nThanks!', 'send_replies': True, 'spoiler': False, 'stickied': False, 'subreddit': 'berkeley', 'subreddit_id': 't5_2qh9w', 'subreddit_subscribers': 39511, 'subreddit_type': 'public', 'thumbnail': 'self', 'title': 'Berkeley Extension', 'total_awards_received': 0, 'treatment_tags': [], 'upvote_ratio': 1.0, 'url': 'https://www.reddit.com/r/berkeley/comments/ha6pce/berkeley_extension/', 'whitelist_status': 'all_ads', 'wls': 6}, {'all_awardings': [], 'allow_live_comments': False, 'author': 'WiseBicycle2', 'author_flair_css_class': None, 'author_flair_richtext': [], 'author_flair_text': None, 'author_flair_type': 'text', 'author_fullname': 't2_3fzkfl7j', 'author_patreon_flair': False, 'author_premium': False, 'awarders': [], 'can_mod_post': False, 'contest_mode': False, 'created_utc': 1592320236, 'domain': 'self.berkeley', 'full_link': 'https://www.reddit.com/r/berkeley/comments/ha5ty1/how_big_are_eecs_16a_labdiscussion_sections/', 'gildings': {}, 'id': 'ha5ty1', 'is_crosspostable': True, 'is_meta': False, 'is_original_content': False, 'is_reddit_media_domain': False, 'is_robot_indexable': True, 'is_self': True, 'is_video': False, 'link_flair_background_color': '', 'link_flair_richtext': [], 'link_flair_text_color': 'dark', 'link_flair_type': 'text', 'locked': False, 'media_only': False, 'no_follow': True, 'num_comments': 1, 'num_crossposts': 0, 'over_18': False, 'parent_whitelist_status': 'all_ads', 'permalink': '/r/berkeley/comments/ha5ty1/how_big_are_eecs_16a_labdiscussion_sections/', 'pinned': False, 'pwls': 6, 'retrieved_on': 1592325080, 'score': 1, 'selftext': '', 'send_replies': True, 'spoiler': False, 'stickied': False, 'subreddit': 'berkeley', 'subreddit_id': 't5_2qh9w', 'subreddit_subscribers': 39511, 'subreddit_type': 'public', 'thumbnail': 'self', 'title': 'How big are eecs 16a lab/discussion sections?', 'total_awards_received': 0, 'treatment_tags': [], 'upvote_ratio': 1.0, 'url': 'https://www.reddit.com/r/berkeley/comments/ha5ty1/how_big_are_eecs_16a_labdiscussion_sections/', 'whitelist_status': 'all_ads', 'wls': 6}, {'all_awardings': [], 'allow_live_comments': False, 'author': 'new1118', 'author_flair_css_class': None, 'author_flair_richtext': [], 'author_flair_text': None, 'author_flair_type': 'text', 'author_fullname': 't2_6p04e294', 'author_patreon_flair': False, 'author_premium': False, 'awarders': [], 'can_mod_post': False, 'contest_mode': False, 'created_utc': 1592316158, 'domain': 'self.berkeley', 'full_link': 'https://www.reddit.com/r/berkeley/comments/ha4l95/incoming_freshman_community_college_enrolment_in/', 'gildings': {}, 'id': 'ha4l95', 'is_crosspostable': True, 'is_meta': False, 'is_original_content': False, 'is_reddit_media_domain': False, 'is_robot_indexable': True, 'is_self': True, 'is_video': False, 'link_flair_background_color': '', 'link_flair_richtext': [], 'link_flair_text_color': 'dark', 'link_flair_type': 'text', 'locked': False, 'media_only': False, 'no_follow': True, 'num_comments': 2, 'num_crossposts': 0, 'over_18': False, 'parent_whitelist_status': 'all_ads', 'permalink': '/r/berkeley/comments/ha4l95/incoming_freshman_community_college_enrolment_in/', 'pinned': False, 'pwls': 6, 'retrieved_on': 1592318190, 'score': 1, 'selftext': \"So I was recently admitted from the WL and the only option left was spring start. I'm now looking at enrolling in a CC until the new year, but other than checking courses through assist.org, I'm not sure where to start. I'm an international student and do not plan on going to the US this fall, so would that mean I wouldn't have to get a visa? Which community colleges are good for knocking out L&amp;s breadths? Thanks!\", 'send_replies': True, 'spoiler': False, 'stickied': False, 'subreddit': 'berkeley', 'subreddit_id': 't5_2qh9w', 'subreddit_subscribers': 39507, 'subreddit_type': 'public', 'thumbnail': 'self', 'title': 'Incoming freshman, community college enrolment in the fall?', 'total_awards_received': 0, 'treatment_tags': [], 'upvote_ratio': 1.0, 'url': 'https://www.reddit.com/r/berkeley/comments/ha4l95/incoming_freshman_community_college_enrolment_in/', 'whitelist_status': 'all_ads', 'wls': 6}, {'all_awardings': [], 'allow_live_comments': False, 'author': 'fleurdedalloway', 'author_flair_css_class': None, 'author_flair_richtext': [], 'author_flair_text': None, 'author_flair_type': 'text', 'author_fullname': 't2_3pymbm5s', 'author_patreon_flair': False, 'author_premium': False, 'awarders': [], 'can_mod_post': False, 'contest_mode': False, 'created_utc': 1592311907, 'domain': 'nytimes.com', 'full_link': 'https://www.reddit.com/r/berkeley/comments/ha3eao/opinion_from_nyt_expecting_students_to_play_it/', 'gildings': {}, 'id': 'ha3eao', 'is_crosspostable': True, 'is_meta': False, 'is_original_content': False, 'is_reddit_media_domain': False, 'is_robot_indexable': True, 'is_self': False, 'is_video': False, 'link_flair_background_color': '', 'link_flair_richtext': [], 'link_flair_text_color': 'dark', 'link_flair_type': 'text', 'locked': False, 'media_only': False, 'no_follow': True, 'num_comments': 1, 'num_crossposts': 0, 'over_18': False, 'parent_whitelist_status': 'all_ads', 'permalink': '/r/berkeley/comments/ha3eao/opinion_from_nyt_expecting_students_to_play_it/', 'pinned': False, 'pwls': 6, 'retrieved_on': 1592311909, 'score': 1, 'selftext': '', 'send_replies': True, 'spoiler': False, 'stickied': False, 'subreddit': 'berkeley', 'subreddit_id': 't5_2qh9w', 'subreddit_subscribers': 39504, 'subreddit_type': 'public', 'thumbnail': 'default', 'title': 'Opinion from NYT | Expecting Students to Play It Safe if Colleges Reopen Is a Fantasy', 'total_awards_received': 0, 'treatment_tags': [], 'upvote_ratio': 1.0, 'url': 'https://www.nytimes.com/2020/06/15/opinion/coronavirus-college-safe.html', 'whitelist_status': 'all_ads', 'wls': 6}, {'all_awardings': [], 'allow_live_comments': False, 'author': '-streSsED_', 'author_flair_css_class': None, 'author_flair_richtext': [], 'author_flair_text': None, 'author_flair_type': 'text', 'author_fullname': 't2_5ojir5bi', 'author_patreon_flair': False, 'author_premium': False, 'awarders': [], 'can_mod_post': False, 'contest_mode': False, 'created_utc': 1592311433, 'domain': 'self.berkeley', 'full_link': 'https://www.reddit.com/r/berkeley/comments/ha39wc/theme_housing/', 'gildings': {}, 'id': 'ha39wc', 'is_crosspostable': True, 'is_meta': False, 'is_original_content': False, 'is_reddit_media_domain': False, 'is_robot_indexable': True, 'is_self': True, 'is_video': False, 'link_flair_background_color': '', 'link_flair_richtext': [], 'link_flair_text_color': 'dark', 'link_flair_type': 'text', 'locked': False, 'media_only': False, 'no_follow': True, 'num_comments': 2, 'num_crossposts': 0, 'over_18': False, 'parent_whitelist_status': 'all_ads', 'permalink': '/r/berkeley/comments/ha39wc/theme_housing/', 'pinned': False, 'pwls': 6, 'retrieved_on': 1592311435, 'score': 1, 'selftext': 'Does anyone knows what’s happening with theme housing or even just housing in general? I’m an incoming freshmen, without a housing guarantee now, what are my chances of getting a dorm?', 'send_replies': True, 'spoiler': False, 'stickied': False, 'subreddit': 'berkeley', 'subreddit_id': 't5_2qh9w', 'subreddit_subscribers': 39504, 'subreddit_type': 'public', 'thumbnail': 'self', 'title': 'Theme Housing???', 'total_awards_received': 0, 'treatment_tags': [], 'upvote_ratio': 1.0, 'url': 'https://www.reddit.com/r/berkeley/comments/ha39wc/theme_housing/', 'whitelist_status': 'all_ads', 'wls': 6}]\n",
            "{'all_awardings': [], 'allow_live_comments': False, 'author': 'sadandanonymous11111', 'author_flair_css_class': None, 'author_flair_richtext': [], 'author_flair_text': None, 'author_flair_type': 'text', 'author_fullname': 't2_3ot1damp', 'author_patreon_flair': False, 'author_premium': False, 'awarders': [], 'can_mod_post': False, 'contest_mode': False, 'created_utc': 1592327848, 'domain': 'i.redd.it', 'full_link': 'https://www.reddit.com/r/berkeley/comments/ha89h0/schedule_advice_for_a_transfer_student_gba_was/', 'gildings': {}, 'id': 'ha89h0', 'is_crosspostable': True, 'is_meta': False, 'is_original_content': False, 'is_reddit_media_domain': True, 'is_robot_indexable': True, 'is_self': False, 'is_video': False, 'link_flair_background_color': '', 'link_flair_richtext': [], 'link_flair_text_color': 'dark', 'link_flair_type': 'text', 'locked': False, 'media_only': False, 'no_follow': True, 'num_comments': 6, 'num_crossposts': 0, 'over_18': False, 'parent_whitelist_status': 'all_ads', 'permalink': '/r/berkeley/comments/ha89h0/schedule_advice_for_a_transfer_student_gba_was/', 'pinned': False, 'post_hint': 'image', 'preview': {'enabled': True, 'images': [{'id': 'A6vudtu-SD8iuv0DiWh9pVteXifbhl0JHuE6tEYefu0', 'resolutions': [{'height': 70, 'url': 'https://preview.redd.it/yilhwccp2b551.jpg?width=108&amp;crop=smart&amp;auto=webp&amp;s=060dfacc0e62a3444b2e9686055be37e5774eec3', 'width': 108}, {'height': 141, 'url': 'https://preview.redd.it/yilhwccp2b551.jpg?width=216&amp;crop=smart&amp;auto=webp&amp;s=7538d6316eb95edc877e4975d155006bc5d680eb', 'width': 216}, {'height': 210, 'url': 'https://preview.redd.it/yilhwccp2b551.jpg?width=320&amp;crop=smart&amp;auto=webp&amp;s=07d1b2e3f30b033c6fba531202e16938aaefc31d', 'width': 320}, {'height': 420, 'url': 'https://preview.redd.it/yilhwccp2b551.jpg?width=640&amp;crop=smart&amp;auto=webp&amp;s=2381f1884889bc1129d0ebe609ccd07498d6dc03', 'width': 640}, {'height': 631, 'url': 'https://preview.redd.it/yilhwccp2b551.jpg?width=960&amp;crop=smart&amp;auto=webp&amp;s=e4a46a9fd532760e5460877754368d3ad2c498eb', 'width': 960}, {'height': 709, 'url': 'https://preview.redd.it/yilhwccp2b551.jpg?width=1080&amp;crop=smart&amp;auto=webp&amp;s=c99d39cb968c5b73e3457eeef19b6edc40a0c11f', 'width': 1080}], 'source': {'height': 1262, 'url': 'https://preview.redd.it/yilhwccp2b551.jpg?auto=webp&amp;s=54bafb8a040715363e92f923cd0885f550d69e86', 'width': 1920}, 'variants': {}}]}, 'pwls': 6, 'retrieved_on': 1592331458, 'score': 1, 'selftext': '', 'send_replies': True, 'spoiler': False, 'stickied': False, 'subreddit': 'berkeley', 'subreddit_id': 't5_2qh9w', 'subreddit_subscribers': 39516, 'subreddit_type': 'public', 'thumbnail': 'https://b.thumbs.redditmedia.com/hSQMOWb1wSfk4ZAkFUtktP3CKeb02U38zqVuUgTzXaU.jpg', 'thumbnail_height': 92, 'thumbnail_width': 140, 'title': 'Schedule advice for a transfer student? GBA was not helpful at all...', 'total_awards_received': 0, 'treatment_tags': [], 'upvote_ratio': 1.0, 'url': 'https://i.redd.it/yilhwccp2b551.jpg', 'whitelist_status': 'all_ads', 'wls': 6}\n",
            "10\n",
            "{'all_awardings': [], 'allow_live_comments': False, 'author': 'sadandanonymous11111', 'author_flair_css_class': None, 'author_flair_richtext': [], 'author_flair_text': None, 'author_flair_type': 'text', 'author_fullname': 't2_3ot1damp', 'author_patreon_flair': False, 'author_premium': False, 'awarders': [], 'can_mod_post': False, 'contest_mode': False, 'created_utc': 1592327848, 'domain': 'i.redd.it', 'full_link': 'https://www.reddit.com/r/berkeley/comments/ha89h0/schedule_advice_for_a_transfer_student_gba_was/', 'gildings': {}, 'id': 'ha89h0', 'is_crosspostable': True, 'is_meta': False, 'is_original_content': False, 'is_reddit_media_domain': True, 'is_robot_indexable': True, 'is_self': False, 'is_video': False, 'link_flair_background_color': '', 'link_flair_richtext': [], 'link_flair_text_color': 'dark', 'link_flair_type': 'text', 'locked': False, 'media_only': False, 'no_follow': True, 'num_comments': 6, 'num_crossposts': 0, 'over_18': False, 'parent_whitelist_status': 'all_ads', 'permalink': '/r/berkeley/comments/ha89h0/schedule_advice_for_a_transfer_student_gba_was/', 'pinned': False, 'post_hint': 'image', 'preview': {'enabled': True, 'images': [{'id': 'A6vudtu-SD8iuv0DiWh9pVteXifbhl0JHuE6tEYefu0', 'resolutions': [{'height': 70, 'url': 'https://preview.redd.it/yilhwccp2b551.jpg?width=108&amp;crop=smart&amp;auto=webp&amp;s=060dfacc0e62a3444b2e9686055be37e5774eec3', 'width': 108}, {'height': 141, 'url': 'https://preview.redd.it/yilhwccp2b551.jpg?width=216&amp;crop=smart&amp;auto=webp&amp;s=7538d6316eb95edc877e4975d155006bc5d680eb', 'width': 216}, {'height': 210, 'url': 'https://preview.redd.it/yilhwccp2b551.jpg?width=320&amp;crop=smart&amp;auto=webp&amp;s=07d1b2e3f30b033c6fba531202e16938aaefc31d', 'width': 320}, {'height': 420, 'url': 'https://preview.redd.it/yilhwccp2b551.jpg?width=640&amp;crop=smart&amp;auto=webp&amp;s=2381f1884889bc1129d0ebe609ccd07498d6dc03', 'width': 640}, {'height': 631, 'url': 'https://preview.redd.it/yilhwccp2b551.jpg?width=960&amp;crop=smart&amp;auto=webp&amp;s=e4a46a9fd532760e5460877754368d3ad2c498eb', 'width': 960}, {'height': 709, 'url': 'https://preview.redd.it/yilhwccp2b551.jpg?width=1080&amp;crop=smart&amp;auto=webp&amp;s=c99d39cb968c5b73e3457eeef19b6edc40a0c11f', 'width': 1080}], 'source': {'height': 1262, 'url': 'https://preview.redd.it/yilhwccp2b551.jpg?auto=webp&amp;s=54bafb8a040715363e92f923cd0885f550d69e86', 'width': 1920}, 'variants': {}}]}, 'pwls': 6, 'retrieved_on': 1592331458, 'score': 1, 'selftext': '', 'send_replies': True, 'spoiler': False, 'stickied': False, 'subreddit': 'berkeley', 'subreddit_id': 't5_2qh9w', 'subreddit_subscribers': 39516, 'subreddit_type': 'public', 'thumbnail': 'https://b.thumbs.redditmedia.com/hSQMOWb1wSfk4ZAkFUtktP3CKeb02U38zqVuUgTzXaU.jpg', 'thumbnail_height': 92, 'thumbnail_width': 140, 'title': 'Schedule advice for a transfer student? GBA was not helpful at all...', 'total_awards_received': 0, 'treatment_tags': [], 'upvote_ratio': 1.0, 'url': 'https://i.redd.it/yilhwccp2b551.jpg', 'whitelist_status': 'all_ads', 'wls': 6}\n",
            "{'all_awardings': [], 'allow_live_comments': False, 'author': '[deleted]', 'author_flair_background_color': '', 'author_flair_css_class': None, 'author_flair_text': None, 'author_flair_text_color': 'dark', 'awarders': [], 'can_mod_post': False, 'contest_mode': False, 'created_utc': 1592327676, 'domain': 'i.redd.it', 'full_link': 'https://www.reddit.com/r/berkeley/comments/ha87gr/schedule_advice_for_a_transfer_student_gba_was/', 'gildings': {}, 'id': 'ha87gr', 'is_crosspostable': False, 'is_meta': False, 'is_original_content': False, 'is_reddit_media_domain': True, 'is_robot_indexable': False, 'is_self': False, 'is_video': False, 'link_flair_background_color': '', 'link_flair_richtext': [], 'link_flair_text_color': 'dark', 'link_flair_type': 'text', 'locked': False, 'media_only': False, 'no_follow': True, 'num_comments': 0, 'num_crossposts': 0, 'over_18': False, 'parent_whitelist_status': 'all_ads', 'permalink': '/r/berkeley/comments/ha87gr/schedule_advice_for_a_transfer_student_gba_was/', 'pinned': False, 'pwls': 6, 'removed_by_category': 'deleted', 'retrieved_on': 1592331307, 'score': 1, 'selftext': '[deleted]', 'send_replies': True, 'spoiler': False, 'stickied': False, 'subreddit': 'berkeley', 'subreddit_id': 't5_2qh9w', 'subreddit_subscribers': 39516, 'subreddit_type': 'public', 'thumbnail': 'default', 'thumbnail_height': 92, 'thumbnail_width': 140, 'title': 'Schedule advice for a transfer student? GBA was not helpful at all...', 'total_awards_received': 0, 'treatment_tags': [], 'upvote_ratio': 1.0, 'url': 'https://i.redd.it/s63b68u62b551.jpg', 'whitelist_status': 'all_ads', 'wls': 6}\n",
            "{'all_awardings': [], 'allow_live_comments': False, 'author': 'sylfrost', 'author_flair_css_class': None, 'author_flair_richtext': [], 'author_flair_text': None, 'author_flair_type': 'text', 'author_fullname': 't2_13t93r', 'author_patreon_flair': False, 'author_premium': False, 'awarders': [], 'can_mod_post': False, 'contest_mode': False, 'created_utc': 1592327337, 'domain': 'self.berkeley', 'full_link': 'https://www.reddit.com/r/berkeley/comments/ha83im/chem_1b_self_study/', 'gildings': {}, 'id': 'ha83im', 'is_crosspostable': True, 'is_meta': False, 'is_original_content': False, 'is_reddit_media_domain': False, 'is_robot_indexable': True, 'is_self': True, 'is_video': False, 'link_flair_background_color': '', 'link_flair_richtext': [], 'link_flair_text_color': 'dark', 'link_flair_type': 'text', 'locked': False, 'media_only': False, 'no_follow': True, 'num_comments': 0, 'num_crossposts': 0, 'over_18': False, 'parent_whitelist_status': 'all_ads', 'permalink': '/r/berkeley/comments/ha83im/chem_1b_self_study/', 'pinned': False, 'pwls': 6, 'retrieved_on': 1592331016, 'score': 1, 'selftext': 'Does anyone know where I can find materials to self study for chem 1b over the summer? Originally i was supposed to take chem 3a so I didnt take chem 1b, but since I changed my concentration I need to take chem 12a this fall.\\n\\nAny other tips would be appreciated as well :)', 'send_replies': True, 'spoiler': False, 'stickied': False, 'subreddit': 'berkeley', 'subreddit_id': 't5_2qh9w', 'subreddit_subscribers': 39515, 'subreddit_type': 'public', 'thumbnail': 'self', 'title': 'CHEM 1B Self study', 'total_awards_received': 0, 'treatment_tags': [], 'upvote_ratio': 1.0, 'url': 'https://www.reddit.com/r/berkeley/comments/ha83im/chem_1b_self_study/', 'whitelist_status': 'all_ads', 'wls': 6}\n",
            "{'all_awardings': [], 'allow_live_comments': False, 'author': 'assboxx1', 'author_flair_css_class': None, 'author_flair_richtext': [], 'author_flair_text': None, 'author_flair_type': 'text', 'author_fullname': 't2_6xyewg04', 'author_patreon_flair': False, 'author_premium': False, 'awarders': [], 'can_mod_post': False, 'contest_mode': False, 'created_utc': 1592326991, 'domain': 'drive.google.com', 'full_link': 'https://www.reddit.com/r/berkeley/comments/ha7z6e/the_2020_health_emergency_shutdown_was_planned_by/', 'gildings': {}, 'id': 'ha7z6e', 'is_crosspostable': False, 'is_meta': False, 'is_original_content': False, 'is_reddit_media_domain': False, 'is_robot_indexable': False, 'is_self': False, 'is_video': False, 'link_flair_background_color': '', 'link_flair_richtext': [], 'link_flair_text_color': 'dark', 'link_flair_type': 'text', 'locked': False, 'media_only': False, 'no_follow': True, 'num_comments': 0, 'num_crossposts': 0, 'over_18': False, 'parent_whitelist_status': 'all_ads', 'permalink': '/r/berkeley/comments/ha7z6e/the_2020_health_emergency_shutdown_was_planned_by/', 'pinned': False, 'post_hint': 'link', 'preview': {'enabled': False, 'images': [{'id': 'Yczcnv6xeV1RKtrEbTxyLhISGHziB-m6Jd_ya-s2yJ8', 'resolutions': [{'height': 56, 'url': 'https://external-preview.redd.it/PNaV9PYKtaSvLj1vxUWhFr5YRx5xrCl6TcEwTCOEYkQ.jpg?width=108&amp;crop=smart&amp;auto=webp&amp;s=509ca04683bd8da04e72f9805548bb8dc8bd955f', 'width': 108}, {'height': 113, 'url': 'https://external-preview.redd.it/PNaV9PYKtaSvLj1vxUWhFr5YRx5xrCl6TcEwTCOEYkQ.jpg?width=216&amp;crop=smart&amp;auto=webp&amp;s=24633a7dc6cdff24787740eaacc5bde0d421d32f', 'width': 216}, {'height': 168, 'url': 'https://external-preview.redd.it/PNaV9PYKtaSvLj1vxUWhFr5YRx5xrCl6TcEwTCOEYkQ.jpg?width=320&amp;crop=smart&amp;auto=webp&amp;s=e8488153680343ffc70a3778f421faa072ec8814', 'width': 320}, {'height': 336, 'url': 'https://external-preview.redd.it/PNaV9PYKtaSvLj1vxUWhFr5YRx5xrCl6TcEwTCOEYkQ.jpg?width=640&amp;crop=smart&amp;auto=webp&amp;s=7ad6454e490ef016691fe05b695e69dec42897ee', 'width': 640}, {'height': 504, 'url': 'https://external-preview.redd.it/PNaV9PYKtaSvLj1vxUWhFr5YRx5xrCl6TcEwTCOEYkQ.jpg?width=960&amp;crop=smart&amp;auto=webp&amp;s=c50db040f731aee284fe77c58eb3f1258dac97d6', 'width': 960}, {'height': 567, 'url': 'https://external-preview.redd.it/PNaV9PYKtaSvLj1vxUWhFr5YRx5xrCl6TcEwTCOEYkQ.jpg?width=1080&amp;crop=smart&amp;auto=webp&amp;s=b3470bacda07802d046c2e36998bd0b2f5e74d61', 'width': 1080}], 'source': {'height': 630, 'url': 'https://external-preview.redd.it/PNaV9PYKtaSvLj1vxUWhFr5YRx5xrCl6TcEwTCOEYkQ.jpg?auto=webp&amp;s=633a7f4308baad484dd947280cb972ea24ec402c', 'width': 1200}, 'variants': {}}]}, 'pwls': 6, 'removed_by_category': 'reddit', 'retrieved_on': 1592330727, 'score': 1, 'selftext': '', 'send_replies': True, 'spoiler': False, 'stickied': False, 'subreddit': 'berkeley', 'subreddit_id': 't5_2qh9w', 'subreddit_subscribers': 39514, 'subreddit_type': 'public', 'thumbnail': 'https://a.thumbs.redditmedia.com/Apdy7tilM3RA3e_PPXdymzxEZda-2CycTrT6cxg9bU4.jpg', 'thumbnail_height': 73, 'thumbnail_width': 140, 'title': 'The 2020 \"Health Emergency Shutdown\" was planned by the Trump administration back in August 2019. Listen to the conspirators discuss everything starting with updates on page 182. Ditch the mask because the shutdown, like the staged impeachments, was just more obstruction to retain power.', 'total_awards_received': 0, 'treatment_tags': [], 'upvote_ratio': 1.0, 'url': 'https://drive.google.com/file/d/1WmtrRXOWglJB9dvVxpXHlxE_miaJQKhV/view?usp=sharing', 'whitelist_status': 'all_ads', 'wls': 6}\n",
            "{'all_awardings': [], 'allow_live_comments': False, 'author': 'hokuspokus2', 'author_flair_css_class': None, 'author_flair_richtext': [], 'author_flair_text': None, 'author_flair_type': 'text', 'author_fullname': 't2_182mgk4', 'author_patreon_flair': False, 'author_premium': False, 'awarders': [], 'can_mod_post': False, 'contest_mode': False, 'created_utc': 1592325458, 'domain': 'i.redd.it', 'full_link': 'https://www.reddit.com/r/berkeley/comments/ha7hfw/how_does_my_freshman_schedule_look_doable/', 'gildings': {}, 'id': 'ha7hfw', 'is_crosspostable': True, 'is_meta': False, 'is_original_content': False, 'is_reddit_media_domain': True, 'is_robot_indexable': True, 'is_self': False, 'is_video': False, 'link_flair_background_color': '', 'link_flair_richtext': [], 'link_flair_text_color': 'dark', 'link_flair_type': 'text', 'locked': False, 'media_only': False, 'no_follow': True, 'num_comments': 3, 'num_crossposts': 0, 'over_18': False, 'parent_whitelist_status': 'all_ads', 'permalink': '/r/berkeley/comments/ha7hfw/how_does_my_freshman_schedule_look_doable/', 'pinned': False, 'post_hint': 'image', 'preview': {'enabled': True, 'images': [{'id': '5EvCAkXY56eSrL4LP1MXBVOWjbZuRItXnCPL_KK-EPo', 'resolutions': [{'height': 86, 'url': 'https://preview.redd.it/ura92jjjva551.png?width=108&amp;crop=smart&amp;auto=webp&amp;s=c58c5e711f84834c539437214a09f4c43495f6ab', 'width': 108}, {'height': 173, 'url': 'https://preview.redd.it/ura92jjjva551.png?width=216&amp;crop=smart&amp;auto=webp&amp;s=deb524502e6b0cc56e9f1f4b6f5c2fd8f287b9c1', 'width': 216}, {'height': 256, 'url': 'https://preview.redd.it/ura92jjjva551.png?width=320&amp;crop=smart&amp;auto=webp&amp;s=a97e030c9e0c60a08537d2be346016333520dfb5', 'width': 320}, {'height': 513, 'url': 'https://preview.redd.it/ura92jjjva551.png?width=640&amp;crop=smart&amp;auto=webp&amp;s=d3b1d3c03671341f88839caf3324851a68c88ee2', 'width': 640}], 'source': {'height': 605, 'url': 'https://preview.redd.it/ura92jjjva551.png?auto=webp&amp;s=f32279d47c57166b07fb26db56380ad1426f49a0', 'width': 754}, 'variants': {}}]}, 'pwls': 6, 'retrieved_on': 1592329483, 'score': 2, 'selftext': '', 'send_replies': True, 'spoiler': False, 'stickied': False, 'subreddit': 'berkeley', 'subreddit_id': 't5_2qh9w', 'subreddit_subscribers': 39512, 'subreddit_type': 'public', 'thumbnail': 'https://b.thumbs.redditmedia.com/dG9qzZkMKQzb9wkVr4sHpfrJJC13H3PvKLKg9FdNDas.jpg', 'thumbnail_height': 112, 'thumbnail_width': 140, 'title': 'How does my freshman schedule look? doable?', 'total_awards_received': 0, 'treatment_tags': [], 'upvote_ratio': 1.0, 'url': 'https://i.redd.it/ura92jjjva551.png', 'whitelist_status': 'all_ads', 'wls': 6}\n",
            "{'all_awardings': [], 'allow_live_comments': False, 'author': 'tacil', 'author_flair_css_class': None, 'author_flair_richtext': [], 'author_flair_text': None, 'author_flair_type': 'text', 'author_fullname': 't2_1eytc2zq', 'author_patreon_flair': False, 'author_premium': True, 'awarders': [], 'can_mod_post': False, 'contest_mode': False, 'created_utc': 1592323032, 'domain': 'self.berkeley', 'full_link': 'https://www.reddit.com/r/berkeley/comments/ha6pce/berkeley_extension/', 'gildings': {}, 'id': 'ha6pce', 'is_crosspostable': True, 'is_meta': False, 'is_original_content': False, 'is_reddit_media_domain': False, 'is_robot_indexable': True, 'is_self': True, 'is_video': False, 'link_flair_background_color': '', 'link_flair_richtext': [], 'link_flair_text_color': 'dark', 'link_flair_type': 'text', 'locked': False, 'media_only': False, 'no_follow': True, 'num_comments': 0, 'num_crossposts': 0, 'over_18': False, 'parent_whitelist_status': 'all_ads', 'permalink': '/r/berkeley/comments/ha6pce/berkeley_extension/', 'pinned': False, 'pwls': 6, 'retrieved_on': 1592327420, 'score': 2, 'selftext': 'Hi all, I just applied for the Digital Marketing Immersive Programs and I was just curious if I get in, will I be able to use campus facilities like a regular student? Or are UC Berkeley and Berkeley Extension just two completely different thing?\\n\\nThanks!', 'send_replies': True, 'spoiler': False, 'stickied': False, 'subreddit': 'berkeley', 'subreddit_id': 't5_2qh9w', 'subreddit_subscribers': 39511, 'subreddit_type': 'public', 'thumbnail': 'self', 'title': 'Berkeley Extension', 'total_awards_received': 0, 'treatment_tags': [], 'upvote_ratio': 1.0, 'url': 'https://www.reddit.com/r/berkeley/comments/ha6pce/berkeley_extension/', 'whitelist_status': 'all_ads', 'wls': 6}\n",
            "{'all_awardings': [], 'allow_live_comments': False, 'author': 'WiseBicycle2', 'author_flair_css_class': None, 'author_flair_richtext': [], 'author_flair_text': None, 'author_flair_type': 'text', 'author_fullname': 't2_3fzkfl7j', 'author_patreon_flair': False, 'author_premium': False, 'awarders': [], 'can_mod_post': False, 'contest_mode': False, 'created_utc': 1592320236, 'domain': 'self.berkeley', 'full_link': 'https://www.reddit.com/r/berkeley/comments/ha5ty1/how_big_are_eecs_16a_labdiscussion_sections/', 'gildings': {}, 'id': 'ha5ty1', 'is_crosspostable': True, 'is_meta': False, 'is_original_content': False, 'is_reddit_media_domain': False, 'is_robot_indexable': True, 'is_self': True, 'is_video': False, 'link_flair_background_color': '', 'link_flair_richtext': [], 'link_flair_text_color': 'dark', 'link_flair_type': 'text', 'locked': False, 'media_only': False, 'no_follow': True, 'num_comments': 1, 'num_crossposts': 0, 'over_18': False, 'parent_whitelist_status': 'all_ads', 'permalink': '/r/berkeley/comments/ha5ty1/how_big_are_eecs_16a_labdiscussion_sections/', 'pinned': False, 'pwls': 6, 'retrieved_on': 1592325080, 'score': 1, 'selftext': '', 'send_replies': True, 'spoiler': False, 'stickied': False, 'subreddit': 'berkeley', 'subreddit_id': 't5_2qh9w', 'subreddit_subscribers': 39511, 'subreddit_type': 'public', 'thumbnail': 'self', 'title': 'How big are eecs 16a lab/discussion sections?', 'total_awards_received': 0, 'treatment_tags': [], 'upvote_ratio': 1.0, 'url': 'https://www.reddit.com/r/berkeley/comments/ha5ty1/how_big_are_eecs_16a_labdiscussion_sections/', 'whitelist_status': 'all_ads', 'wls': 6}\n",
            "{'all_awardings': [], 'allow_live_comments': False, 'author': 'new1118', 'author_flair_css_class': None, 'author_flair_richtext': [], 'author_flair_text': None, 'author_flair_type': 'text', 'author_fullname': 't2_6p04e294', 'author_patreon_flair': False, 'author_premium': False, 'awarders': [], 'can_mod_post': False, 'contest_mode': False, 'created_utc': 1592316158, 'domain': 'self.berkeley', 'full_link': 'https://www.reddit.com/r/berkeley/comments/ha4l95/incoming_freshman_community_college_enrolment_in/', 'gildings': {}, 'id': 'ha4l95', 'is_crosspostable': True, 'is_meta': False, 'is_original_content': False, 'is_reddit_media_domain': False, 'is_robot_indexable': True, 'is_self': True, 'is_video': False, 'link_flair_background_color': '', 'link_flair_richtext': [], 'link_flair_text_color': 'dark', 'link_flair_type': 'text', 'locked': False, 'media_only': False, 'no_follow': True, 'num_comments': 2, 'num_crossposts': 0, 'over_18': False, 'parent_whitelist_status': 'all_ads', 'permalink': '/r/berkeley/comments/ha4l95/incoming_freshman_community_college_enrolment_in/', 'pinned': False, 'pwls': 6, 'retrieved_on': 1592318190, 'score': 1, 'selftext': \"So I was recently admitted from the WL and the only option left was spring start. I'm now looking at enrolling in a CC until the new year, but other than checking courses through assist.org, I'm not sure where to start. I'm an international student and do not plan on going to the US this fall, so would that mean I wouldn't have to get a visa? Which community colleges are good for knocking out L&amp;s breadths? Thanks!\", 'send_replies': True, 'spoiler': False, 'stickied': False, 'subreddit': 'berkeley', 'subreddit_id': 't5_2qh9w', 'subreddit_subscribers': 39507, 'subreddit_type': 'public', 'thumbnail': 'self', 'title': 'Incoming freshman, community college enrolment in the fall?', 'total_awards_received': 0, 'treatment_tags': [], 'upvote_ratio': 1.0, 'url': 'https://www.reddit.com/r/berkeley/comments/ha4l95/incoming_freshman_community_college_enrolment_in/', 'whitelist_status': 'all_ads', 'wls': 6}\n",
            "{'all_awardings': [], 'allow_live_comments': False, 'author': 'fleurdedalloway', 'author_flair_css_class': None, 'author_flair_richtext': [], 'author_flair_text': None, 'author_flair_type': 'text', 'author_fullname': 't2_3pymbm5s', 'author_patreon_flair': False, 'author_premium': False, 'awarders': [], 'can_mod_post': False, 'contest_mode': False, 'created_utc': 1592311907, 'domain': 'nytimes.com', 'full_link': 'https://www.reddit.com/r/berkeley/comments/ha3eao/opinion_from_nyt_expecting_students_to_play_it/', 'gildings': {}, 'id': 'ha3eao', 'is_crosspostable': True, 'is_meta': False, 'is_original_content': False, 'is_reddit_media_domain': False, 'is_robot_indexable': True, 'is_self': False, 'is_video': False, 'link_flair_background_color': '', 'link_flair_richtext': [], 'link_flair_text_color': 'dark', 'link_flair_type': 'text', 'locked': False, 'media_only': False, 'no_follow': True, 'num_comments': 1, 'num_crossposts': 0, 'over_18': False, 'parent_whitelist_status': 'all_ads', 'permalink': '/r/berkeley/comments/ha3eao/opinion_from_nyt_expecting_students_to_play_it/', 'pinned': False, 'pwls': 6, 'retrieved_on': 1592311909, 'score': 1, 'selftext': '', 'send_replies': True, 'spoiler': False, 'stickied': False, 'subreddit': 'berkeley', 'subreddit_id': 't5_2qh9w', 'subreddit_subscribers': 39504, 'subreddit_type': 'public', 'thumbnail': 'default', 'title': 'Opinion from NYT | Expecting Students to Play It Safe if Colleges Reopen Is a Fantasy', 'total_awards_received': 0, 'treatment_tags': [], 'upvote_ratio': 1.0, 'url': 'https://www.nytimes.com/2020/06/15/opinion/coronavirus-college-safe.html', 'whitelist_status': 'all_ads', 'wls': 6}\n",
            "{'all_awardings': [], 'allow_live_comments': False, 'author': '-streSsED_', 'author_flair_css_class': None, 'author_flair_richtext': [], 'author_flair_text': None, 'author_flair_type': 'text', 'author_fullname': 't2_5ojir5bi', 'author_patreon_flair': False, 'author_premium': False, 'awarders': [], 'can_mod_post': False, 'contest_mode': False, 'created_utc': 1592311433, 'domain': 'self.berkeley', 'full_link': 'https://www.reddit.com/r/berkeley/comments/ha39wc/theme_housing/', 'gildings': {}, 'id': 'ha39wc', 'is_crosspostable': True, 'is_meta': False, 'is_original_content': False, 'is_reddit_media_domain': False, 'is_robot_indexable': True, 'is_self': True, 'is_video': False, 'link_flair_background_color': '', 'link_flair_richtext': [], 'link_flair_text_color': 'dark', 'link_flair_type': 'text', 'locked': False, 'media_only': False, 'no_follow': True, 'num_comments': 2, 'num_crossposts': 0, 'over_18': False, 'parent_whitelist_status': 'all_ads', 'permalink': '/r/berkeley/comments/ha39wc/theme_housing/', 'pinned': False, 'pwls': 6, 'retrieved_on': 1592311435, 'score': 1, 'selftext': 'Does anyone knows what’s happening with theme housing or even just housing in general? I’m an incoming freshmen, without a housing guarantee now, what are my chances of getting a dorm?', 'send_replies': True, 'spoiler': False, 'stickied': False, 'subreddit': 'berkeley', 'subreddit_id': 't5_2qh9w', 'subreddit_subscribers': 39504, 'subreddit_type': 'public', 'thumbnail': 'self', 'title': 'Theme Housing???', 'total_awards_received': 0, 'treatment_tags': [], 'upvote_ratio': 1.0, 'url': 'https://www.reddit.com/r/berkeley/comments/ha39wc/theme_housing/', 'whitelist_status': 'all_ads', 'wls': 6}\n",
            "[1592327848, 'Schedule advice for a transfer student? GBA was not helpful at all...', '']\n"
          ],
          "name": "stdout"
        }
      ]
    },
    {
      "cell_type": "code",
      "metadata": {
        "id": "_bVnyY62f6V3",
        "colab_type": "code",
        "colab": {}
      },
      "source": [
        "from google.colab import files\n",
        "\n",
        "with open('example.txt', 'w') as f:\n",
        "  json.dump(test, f)\n",
        "\n",
        "files.download('example.txt')"
      ],
      "execution_count": null,
      "outputs": []
    },
    {
      "cell_type": "code",
      "metadata": {
        "id": "0lOnkzmWOo5x",
        "colab_type": "code",
        "colab": {}
      },
      "source": [
        "def give_me_intervals(start_at, number_of_days_per_interval = 3):\n",
        "    \n",
        "    end_at = math.ceil(datetime.utcnow().timestamp())\n",
        "        \n",
        "    ## 1 day = 86400,\n",
        "    period = (86400 * number_of_days_per_interval)\n",
        "\n",
        "    end = start_at + period\n",
        "    yield (int(start_at), int(end))\n",
        "\n",
        "    padding = 1\n",
        "    while end <= end_at:\n",
        "        start_at = end + padding\n",
        "        end = (start_at - padding) + period\n",
        "        yield int(start_at), int(end)\n",
        "\n",
        "def make_request(uri, max_retries = 5):\n",
        "    def fire_away(uri):\n",
        "        response = requests.get(uri)\n",
        "        assert response.status_code == 200\n",
        "        return json.loads(response.content)\n",
        "\n",
        "    current_tries = 1\n",
        "    while current_tries < max_retries:\n",
        "        try:\n",
        "            response = fire_away(uri)\n",
        "            return response\n",
        "        except:\n",
        "            time.sleep(.150)\n",
        "            current_tries += 1\n",
        "\n",
        "    return fire_away(uri)\n",
        " \n",
        "def pull_posts_for(subreddit, start_at, end_at):\n",
        "    \n",
        "    def map_posts(posts):\n",
        "        return list(map(lambda post: {\n",
        "            'id': post['id'],\n",
        "            'created_utc': post['created_utc'],\n",
        "            'prefix': 't4_'\n",
        "        }, posts))\n",
        "    \n",
        "    SIZE = 500\n",
        "    URI_TEMPLATE = r'https://api.pushshift.io/reddit/search/submission?subreddit={}&after={}&before={}&size={}'\n",
        "    \n",
        "    post_collections = map_posts( \\\n",
        "        make_request( \\\n",
        "            URI_TEMPLATE.format(subreddit, start_at, end_at, SIZE))['data'])\n",
        "\n",
        "    n = len(post_collections)\n",
        "    while n == SIZE:\n",
        "        last = post_collections[-1]\n",
        "        new_start_at = last['created_utc'] - 10\n",
        "        \n",
        "        more_posts = map_posts( \\\n",
        "            make_request( \\\n",
        "                URI_TEMPLATE.format(subreddit, new_start_at, end_at, SIZE))['data'])\n",
        "        \n",
        "        n = len(more_posts)\n",
        "        post_collections.extend(more_posts)\n",
        "\n",
        "    return post_collections"
      ],
      "execution_count": null,
      "outputs": []
    },
    {
      "cell_type": "code",
      "metadata": {
        "id": "3T-RyE-nQ2uc",
        "colab_type": "code",
        "colab": {}
      },
      "source": [
        ""
      ],
      "execution_count": null,
      "outputs": []
    },
    {
      "cell_type": "code",
      "metadata": {
        "id": "o-UwKtnGOrO7",
        "colab_type": "code",
        "colab": {
          "base_uri": "https://localhost:8080/",
          "height": 51
        },
        "outputId": "c69a0077-f46a-4925-f189-c763e2023fcb"
      },
      "source": [
        "subreddit = 'berkeley'\n",
        "\n",
        "end_at = math.ceil(datetime.utcnow().timestamp())\n",
        "start_at = math.floor((datetime.utcnow() - timedelta(days=10)).timestamp())\n",
        "\n",
        "posts = pull_posts_for(subreddit, start_at, end_at)\n",
        "\n",
        "print('found:', len(posts))\n",
        "print('unique:', len(np.unique([ post['id'] for post in posts ])))"
      ],
      "execution_count": null,
      "outputs": [
        {
          "output_type": "stream",
          "text": [
            "found: 464\n",
            "unique: 464\n"
          ],
          "name": "stdout"
        }
      ]
    },
    {
      "cell_type": "code",
      "metadata": {
        "id": "u2w6ZLzmOuxo",
        "colab_type": "code",
        "colab": {
          "base_uri": "https://localhost:8080/",
          "height": 187
        },
        "outputId": "42f129f1-f9b4-4cdf-d5a1-5516ab154d10"
      },
      "source": [
        "## assert no dups,\n",
        "sorted_by_occurence = sorted([ (k, len(list(g))) for k,g in itertools.groupby(posts, lambda x: x['id']) ], key=lambda x: x[1], reverse=True)\n",
        "sorted_by_occurence[:10]"
      ],
      "execution_count": null,
      "outputs": [
        {
          "output_type": "execute_result",
          "data": {
            "text/plain": [
              "[('gxfgun', 1),\n",
              " ('gxfjch', 1),\n",
              " ('gxft9j', 1),\n",
              " ('gxgctm', 1),\n",
              " ('gxgg6p', 1),\n",
              " ('gxgl1r', 1),\n",
              " ('gxgnqy', 1),\n",
              " ('gxh5rz', 1),\n",
              " ('gxhjat', 1),\n",
              " ('gxhxwm', 1)]"
            ]
          },
          "metadata": {
            "tags": []
          },
          "execution_count": 4
        }
      ]
    },
    {
      "cell_type": "code",
      "metadata": {
        "id": "5o1sO75hOxiC",
        "colab_type": "code",
        "colab": {
          "base_uri": "https://localhost:8080/",
          "height": 187
        },
        "outputId": "d68e0b0d-b2fd-49ed-b758-7f47dc7422e7"
      },
      "source": [
        "\n",
        "## quick look at the posts,\n",
        "posts[:10]"
      ],
      "execution_count": null,
      "outputs": [
        {
          "output_type": "execute_result",
          "data": {
            "text/plain": [
              "[{'created_utc': 1591399178, 'id': 'gxfgun', 'prefix': 't4_'},\n",
              " {'created_utc': 1591399418, 'id': 'gxfjch', 'prefix': 't4_'},\n",
              " {'created_utc': 1591400375, 'id': 'gxft9j', 'prefix': 't4_'},\n",
              " {'created_utc': 1591402276, 'id': 'gxgctm', 'prefix': 't4_'},\n",
              " {'created_utc': 1591402614, 'id': 'gxgg6p', 'prefix': 't4_'},\n",
              " {'created_utc': 1591403099, 'id': 'gxgl1r', 'prefix': 't4_'},\n",
              " {'created_utc': 1591403372, 'id': 'gxgnqy', 'prefix': 't4_'},\n",
              " {'created_utc': 1591405214, 'id': 'gxh5rz', 'prefix': 't4_'},\n",
              " {'created_utc': 1591406618, 'id': 'gxhjat', 'prefix': 't4_'},\n",
              " {'created_utc': 1591408148, 'id': 'gxhxwm', 'prefix': 't4_'}]"
            ]
          },
          "metadata": {
            "tags": []
          },
          "execution_count": 5
        }
      ]
    },
    {
      "cell_type": "code",
      "metadata": {
        "id": "njUKfZRJOzK0",
        "colab_type": "code",
        "colab": {}
      },
      "source": [
        ""
      ],
      "execution_count": null,
      "outputs": []
    }
  ]
}